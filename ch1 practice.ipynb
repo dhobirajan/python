{
 "cells": [
  {
   "cell_type": "code",
   "execution_count": null,
   "id": "e3dd66da",
   "metadata": {},
   "outputs": [],
   "source": [
    "s1=\"\"\"hi\n",
    "rajan\"\"\" \n",
    "print(s1)"
   ]
  },
  {
   "cell_type": "code",
   "execution_count": null,
   "id": "cddef011",
   "metadata": {},
   "outputs": [],
   "source": [
    "#print binary,decimal,hexa ,octal number\n",
    "a=10\n",
    "b=0o10\n",
    "c=0X10\n",
    "d=0B10\n",
    "print(a,b,c,d)"
   ]
  },
  {
   "cell_type": "code",
   "execution_count": null,
   "id": "80945e73",
   "metadata": {},
   "outputs": [],
   "source": [
    "bin(9)\n"
   ]
  },
  {
   "cell_type": "code",
   "execution_count": null,
   "id": "38093754",
   "metadata": {},
   "outputs": [],
   "source": [
    "oct(10)"
   ]
  },
  {
   "cell_type": "code",
   "execution_count": null,
   "id": "916e5ea8",
   "metadata": {},
   "outputs": [],
   "source": [
    "hex(5)"
   ]
  },
  {
   "cell_type": "code",
   "execution_count": null,
   "id": "024cf87b",
   "metadata": {},
   "outputs": [],
   "source": [
    "x=2+2j\n",
    "type(x)"
   ]
  },
  {
   "cell_type": "code",
   "execution_count": null,
   "id": "6869fe6f",
   "metadata": {},
   "outputs": [],
   "source": [
    "x='hi'\n",
    "type(x)"
   ]
  },
  {
   "cell_type": "code",
   "execution_count": null,
   "id": "b0ebf68a",
   "metadata": {},
   "outputs": [],
   "source": [
    "x={1,2,3,4}\n",
    "type(x)"
   ]
  },
  {
   "cell_type": "code",
   "execution_count": null,
   "id": "90c81f8c",
   "metadata": {},
   "outputs": [],
   "source": [
    "x={1:'rajan'}\n",
    "type(x)"
   ]
  },
  {
   "cell_type": "code",
   "execution_count": null,
   "id": "1669c297",
   "metadata": {},
   "outputs": [],
   "source": [
    "10 and 5\n"
   ]
  },
  {
   "cell_type": "code",
   "execution_count": null,
   "id": "18eac88b",
   "metadata": {},
   "outputs": [],
   "source": [
    "0 or 9\n"
   ]
  },
  {
   "cell_type": "code",
   "execution_count": null,
   "id": "6c1a0962",
   "metadata": {},
   "outputs": [],
   "source": [
    "x=8%3\n",
    "print(x)"
   ]
  },
  {
   "cell_type": "code",
   "execution_count": null,
   "id": "9dd9fbb0",
   "metadata": {},
   "outputs": [],
   "source": [
    "print(\"aman\"+\"10\")"
   ]
  },
  {
   "cell_type": "code",
   "execution_count": null,
   "id": "09916381",
   "metadata": {},
   "outputs": [],
   "source": [
    "print(5*\"rajan\")"
   ]
  },
  {
   "cell_type": "code",
   "execution_count": null,
   "id": "b589f344",
   "metadata": {},
   "outputs": [],
   "source": [
    "0 and 20"
   ]
  },
  {
   "cell_type": "code",
   "execution_count": null,
   "id": "c9196eb5",
   "metadata": {},
   "outputs": [],
   "source": [
    "20 and 0"
   ]
  },
  {
   "cell_type": "code",
   "execution_count": null,
   "id": "da03573d",
   "metadata": {},
   "outputs": [],
   "source": [
    "10 and 20"
   ]
  },
  {
   "cell_type": "code",
   "execution_count": null,
   "id": "74188339",
   "metadata": {},
   "outputs": [],
   "source": [
    "x='rajan'\n",
    "print(type(x))\n",
    "type(x)"
   ]
  },
  {
   "cell_type": "code",
   "execution_count": null,
   "id": "52112f7b",
   "metadata": {},
   "outputs": [],
   "source": [
    "x=\"\"\"hi my name is rajan\n",
    "my father name is indra\"\"\"\n",
    "print(x)"
   ]
  },
  {
   "cell_type": "code",
   "execution_count": null,
   "id": "4ef3bb6e",
   "metadata": {},
   "outputs": [],
   "source": [
    "x=0B01011\n",
    "print(x)"
   ]
  },
  {
   "cell_type": "code",
   "execution_count": null,
   "id": "4285dd03",
   "metadata": {},
   "outputs": [],
   "source": [
    "bin(778)"
   ]
  },
  {
   "cell_type": "code",
   "execution_count": null,
   "id": "b4fb1eb6",
   "metadata": {},
   "outputs": [],
   "source": [
    "oct(778)"
   ]
  },
  {
   "cell_type": "code",
   "execution_count": null,
   "id": "a88b3ca2",
   "metadata": {},
   "outputs": [],
   "source": [
    "hex(7990)"
   ]
  },
  {
   "cell_type": "code",
   "execution_count": null,
   "id": "b7d97a35",
   "metadata": {},
   "outputs": [],
   "source": [
    "x=4\n",
    "y=\"rajan\"\n",
    "print(x+y)"
   ]
  },
  {
   "cell_type": "code",
   "execution_count": null,
   "id": "c8513dd8",
   "metadata": {},
   "outputs": [],
   "source": [
    "#input celsius\n",
    "celsius = float(input(\"Enter Celsius: \"))\n",
    "\n",
    "#calculate fahrenheit using the formula\n",
    "fahrenheit = (9/5)*celsius + 32\n",
    "print(\"Fahrenheit \",fahrenheit)\n",
    "\n",
    "#input fahrenheit\n",
    "fahrenheit = float(input(\"Enter Fahrenheit: \"))\n",
    "\n",
    "celsius = (5/9)*(fahrenheit - 32)\n",
    "print(\"Celsius \",celsius)"
   ]
  },
  {
   "cell_type": "code",
   "execution_count": null,
   "id": "967a844b",
   "metadata": {},
   "outputs": [],
   "source": [
    "day=int(input(\"enter the number od day:\"))\n",
    "year=day//365\n",
    "month=(day%365)//30\n",
    "days=(day%365)%30\n",
    "print(year,month,days)"
   ]
  },
  {
   "cell_type": "code",
   "execution_count": null,
   "id": "e24524d7",
   "metadata": {},
   "outputs": [],
   "source": [
    "hours = int(input(\"Enter the number of hours: \"))\n",
    "\n",
    "minutes = hours * 60\n",
    "seconds = hours * 3600\n",
    "\n",
    "print(f\"Minutes: {minutes}, Seconds: {seconds}\")"
   ]
  },
  {
   "cell_type": "code",
   "execution_count": null,
   "id": "17447844",
   "metadata": {},
   "outputs": [],
   "source": [
    "def find_exponent(a, n):\n",
    "    x = 0\n",
    "    while a ** x != n:\n",
    "        x += 1\n",
    "    return x\n",
    "\n",
    "a1, n1 = 2, 1024\n",
    "a2, n2 = 3, 81\n",
    "\n",
    "print(f\"For a = {a1} and n = {n1}, the exponent x is: {find_exponent(a1, n1)}\")\n",
    "print(f\"For a = {a2} and n = {n2}, the exponent x is: {find_exponent(a2, n2)}\")"
   ]
  },
  {
   "cell_type": "code",
   "execution_count": null,
   "id": "80a7751e",
   "metadata": {},
   "outputs": [],
   "source": [
    "year=int(input(\" enter the year:\"))\n",
    "if year%4==0 and (year%100!=0 or year%400==0):\n",
    "    print(\"leap year\")\n",
    "else:\n",
    "    print(\"not leap year\")"
   ]
  },
  {
   "cell_type": "code",
   "execution_count": 3,
   "id": "5590bd02",
   "metadata": {},
   "outputs": [
    {
     "name": "stdout",
     "output_type": "stream",
     "text": [
      "enter the 1 num:1\n",
      "enter the 2 num:2\n",
      "enter the 3 num:3\n",
      "enter the 4 num:4\n",
      "enter the 5 num:5\n",
      "enter the 6 num:6\n",
      "enter the 7 num:7\n",
      "enter the 8 num:8\n",
      "enter the 9 num:9\n",
      "enter the 10 num:10\n",
      "55 5.5\n"
     ]
    }
   ],
   "source": [
    "sum=0\n",
    "for i in range(10):\n",
    "    num=int(input(f\"enter the {i+1} num:\"))\n",
    "    sum=sum+num\n",
    "    avg=sum/10\n",
    "    \n",
    "print(sum,avg)    \n",
    "    "
   ]
  },
  {
   "cell_type": "code",
   "execution_count": null,
   "id": "263a8277",
   "metadata": {},
   "outputs": [],
   "source": [
    "a=1\n",
    "b=10\n",
    "c=4\n",
    "count=0\n",
    "for num in range(a,b+1):\n",
    "    if num%c==0:\n",
    "        count+=1\n",
    "print(count)        "
   ]
  },
  {
   "cell_type": "code",
   "execution_count": null,
   "id": "f3f16ebb",
   "metadata": {},
   "outputs": [],
   "source": [
    "a=0\n",
    "b=1\n",
    "for i in range(10):\n",
    "    sum=a+b\n",
    "    print(a,end=\" \")\n",
    "    a=b\n",
    "    b=sum"
   ]
  },
  {
   "cell_type": "code",
   "execution_count": 6,
   "id": "82e438ec",
   "metadata": {},
   "outputs": [
    {
     "name": "stdout",
     "output_type": "stream",
     "text": [
      "enter the nnumber:7878\n",
      "not\n"
     ]
    }
   ],
   "source": [
    "num=int(input(\"enter the nnumber:\"))\n",
    "sum=0\n",
    "m=0\n",
    "temp=num\n",
    "while num>0:\n",
    "    m=num%10\n",
    "    sum=sum+m*m*m\n",
    "    num=num//10\n",
    "if sum==temp:\n",
    "    print(\"armstrong num\")\n",
    "else:\n",
    "    print(\"not\")"
   ]
  },
  {
   "cell_type": "code",
   "execution_count": 25,
   "id": "8bc56938",
   "metadata": {},
   "outputs": [
    {
     "name": "stdout",
     "output_type": "stream",
     "text": [
      "enter start:1\n",
      "enter a end:50\n",
      "2 3 5 7 11 13 17 19 23 29 31 37 41 43 47 "
     ]
    }
   ],
   "source": [
    "\n",
    "start=int(input(\"enter start:\"))\n",
    "end=int(input(\"enter a end:\"))\n",
    "for num in range(start,end+1):\n",
    "    if num>1:\n",
    "        for i in range(2,int(num**0.5)+1):\n",
    "             if num%i==0:\n",
    "                \n",
    "                break\n",
    "        else:\n",
    "            print(num,end=\" \")"
   ]
  },
  {
   "cell_type": "code",
   "execution_count": 6,
   "id": "de491531",
   "metadata": {},
   "outputs": [
    {
     "name": "stdout",
     "output_type": "stream",
     "text": [
      "* \n",
      "* * \n",
      "* * * \n",
      "* * * * \n",
      "* * * * * \n"
     ]
    }
   ],
   "source": [
    "for i in range(5):\n",
    "    for j in range(i+1):\n",
    "        print(\"*\",end=\" \")\n",
    "    print()    "
   ]
  },
  {
   "cell_type": "code",
   "execution_count": 3,
   "id": "998675cc",
   "metadata": {},
   "outputs": [
    {
     "name": "stdout",
     "output_type": "stream",
     "text": [
      "enter num7\n",
      "0\n",
      "1\n",
      "1\n",
      "2\n",
      "3\n",
      "5\n",
      "8\n"
     ]
    }
   ],
   "source": [
    "def fibo(n):\n",
    "    a=0\n",
    "    b=1\n",
    "    for i in range(1,n+1):\n",
    "        c=a+b\n",
    "        print(a)\n",
    "        a=b\n",
    "        b=c\n",
    "n=int(input(\"enter num\"))\n",
    "fibo(n)"
   ]
  },
  {
   "cell_type": "code",
   "execution_count": null,
   "id": "d8cc4fc2",
   "metadata": {},
   "outputs": [],
   "source": []
  }
 ],
 "metadata": {
  "kernelspec": {
   "display_name": "Python 3 (ipykernel)",
   "language": "python",
   "name": "python3"
  },
  "language_info": {
   "codemirror_mode": {
    "name": "ipython",
    "version": 3
   },
   "file_extension": ".py",
   "mimetype": "text/x-python",
   "name": "python",
   "nbconvert_exporter": "python",
   "pygments_lexer": "ipython3",
   "version": "3.11.5"
  }
 },
 "nbformat": 4,
 "nbformat_minor": 5
}
