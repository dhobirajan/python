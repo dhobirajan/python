{
 "cells": [
  {
   "cell_type": "code",
   "execution_count": null,
   "id": "45c48d89",
   "metadata": {},
   "outputs": [],
   "source": [
    "print(\"hrllo\")"
   ]
  },
  {
   "cell_type": "code",
   "execution_count": 5,
   "id": "dbd89f2d",
   "metadata": {},
   "outputs": [
    {
     "name": "stdout",
     "output_type": "stream",
     "text": [
      "hello rajan\n"
     ]
    }
   ],
   "source": [
    "def greet():\n",
    "    print(\"hello rajan\")\n",
    "greet()    "
   ]
  },
  {
   "cell_type": "code",
   "execution_count": null,
   "id": "33f5ca2f",
   "metadata": {},
   "outputs": [],
   "source": [
    "def add(x,y):\n",
    "    return x+y\n",
    "add(2,4)"
   ]
  },
  {
   "cell_type": "code",
   "execution_count": 11,
   "id": "891c79c6",
   "metadata": {},
   "outputs": [
    {
     "name": "stdout",
     "output_type": "stream",
     "text": [
      "rajan good morning\n"
     ]
    }
   ],
   "source": [
    "# argument function\n",
    "#default argument\n",
    "def greet(name,greeting=\"hello\"):\n",
    "    \n",
    "    print(name,greeting)\n",
    "greet(\"rajan\",\"good morning\")    "
   ]
  },
  {
   "cell_type": "code",
   "execution_count": 12,
   "id": "ca45a2fb",
   "metadata": {},
   "outputs": [
    {
     "name": "stdout",
     "output_type": "stream",
     "text": [
      "hi\n"
     ]
    }
   ],
   "source": [
    "def greet(greeting=\"hello\"):\n",
    "    print(greeting)\n",
    "greet(\"hi\")   \n",
    "  "
   ]
  },
  {
   "cell_type": "code",
   "execution_count": 15,
   "id": "2d733520",
   "metadata": {},
   "outputs": [
    {
     "name": "stdout",
     "output_type": "stream",
     "text": [
      "hello python lang\n"
     ]
    }
   ],
   "source": [
    "def wish(name,msg):\n",
    "    print(\"hello\",name,msg)\n",
    "wish(msg=\"lang\",name=\"python\")    "
   ]
  },
  {
   "cell_type": "code",
   "execution_count": 18,
   "id": "5499cde6",
   "metadata": {},
   "outputs": [
    {
     "name": "stdout",
     "output_type": "stream",
     "text": [
      "hello python lang\n"
     ]
    }
   ],
   "source": [
    "def wish(name,msg):\n",
    "    print(\"hello\",name,msg)\n",
    "wish(\"python\",msg=\"lang\")    "
   ]
  },
  {
   "cell_type": "code",
   "execution_count": 19,
   "id": "34aba0ac",
   "metadata": {},
   "outputs": [
    {
     "name": "stdout",
     "output_type": "stream",
     "text": [
      "24\n"
     ]
    }
   ],
   "source": [
    "#variable argument\n",
    "def add(*n):\n",
    "    total=0\n",
    "    for i in n:\n",
    "        total+=i\n",
    "    print(total)\n",
    "add(1,2,3,4,5)        "
   ]
  },
  {
   "cell_type": "code",
   "execution_count": null,
   "id": "2332f177",
   "metadata": {},
   "outputs": [],
   "source": [
    "def add(*args):\n",
    "    total=0\n",
    "    for i in args:\n",
    "        total+=i\n",
    "    return total \n",
    "add(1,2,3,4,5)\n",
    " "
   ]
  },
  {
   "cell_type": "code",
   "execution_count": 22,
   "id": "587c891d",
   "metadata": {},
   "outputs": [
    {
     "name": "stdout",
     "output_type": "stream",
     "text": [
      "name : Alice\n",
      "age : 25\n",
      "city : Wonderland\n",
      "add : addd\n"
     ]
    }
   ],
   "source": [
    "def display_info(**kwargs):\n",
    "    for key, value in kwargs.items():\n",
    "        print(key, \":\", value)\n",
    "\n",
    "display_info(name=\"Alice\", age=25, city=\"Wonderland\",add=\"addd\")"
   ]
  },
  {
   "cell_type": "code",
   "execution_count": 27,
   "id": "d59444bf",
   "metadata": {},
   "outputs": [
    {
     "name": "stdout",
     "output_type": "stream",
     "text": [
      "a: 1\n",
      "b: 6\n",
      "c: 5\n",
      "Additional positional arguments: (8,)\n",
      "Additional keyword arguments: {'d': 'extra', 'e': 'more'}\n"
     ]
    }
   ],
   "source": [
    "def complex_function(a, b, *args, c=10, **kwargs):\n",
    "    print(\"a:\", a)\n",
    "    print(\"b:\", b)\n",
    "    print(\"c:\", c)\n",
    "    print(\"Additional positional arguments:\", args)\n",
    "    print(\"Additional keyword arguments:\", kwargs)\n",
    "\n",
    "complex_function(1,6,8 ,c=5, d=\"extra\", e=\"more\")"
   ]
  },
  {
   "cell_type": "code",
   "execution_count": 42,
   "id": "b663d662",
   "metadata": {},
   "outputs": [
    {
     "name": "stdout",
     "output_type": "stream",
     "text": [
      "I am a local variable\n"
     ]
    }
   ],
   "source": [
    "\n",
    "def example_function():\n",
    "    # Local variable\n",
    "    local_var = \"I am a local variable\"\n",
    "\n",
    "# Call the function\n",
    "example_function()\n",
    "print(local_var)\n",
    "\n",
    "# Try to access the local variable outside the function (will result in an error)\n",
    "# print(local_var)  # Uncommenting this line will raise a NameError"
   ]
  },
  {
   "cell_type": "code",
   "execution_count": 39,
   "id": "42f40ff7",
   "metadata": {},
   "outputs": [
    {
     "name": "stdout",
     "output_type": "stream",
     "text": [
      "hi i am rajan\n",
      "hi i am rajan\n"
     ]
    }
   ],
   "source": [
    "globle_var=\"hi i am rajan\"\n",
    "def glob():\n",
    "    print(globle_var)\n",
    "glob()  \n",
    "print(globle_var)"
   ]
  },
  {
   "cell_type": "code",
   "execution_count": 38,
   "id": "4ed9512d",
   "metadata": {},
   "outputs": [
    {
     "name": "stdout",
     "output_type": "stream",
     "text": [
      "rajan\n",
      "rajan\n"
     ]
    }
   ],
   "source": [
    "global_var = \"I am a global variable\"\n",
    "\n",
    "def modify_global():\n",
    "    # Using the global keyword to modify the global variable\n",
    "    global global_var\n",
    "    global global_var\n",
    "    global_var = \"I've been modified inside the function\"\n",
    "   \n",
    "    global_var=\"rajan\"\n",
    "\n",
    "# Call the function\n",
    "modify_global()\n",
    "\n",
    "# Accessing the modified global variable outside the function\n",
    "print(global_var)\n",
    "print(global_var)"
   ]
  },
  {
   "cell_type": "code",
   "execution_count": null,
   "id": "63e2eef5",
   "metadata": {},
   "outputs": [],
   "source": [
    "# wap that ask a user for an hour between 1 and 12 ask them to enter am or pm are hours into the future they want to go\n",
    "current_time=int(input(\"enter the hours between 1 to 12:\"))\n",
    "am_pm=input(\"enter am or pm:\")\n",
    "time_travel=int(input(\"enter how many hours they want to go in future:\"))\n",
    "total_time=current_time+time_travel\n",
    "if total_time>12 and am_pm==\"am\":\n",
    "    total_time-=12\n",
    "    am_pm=\"pm\"\n",
    "if total_time>12 and am_pm==\"pm\":\n",
    "    total_time-=12\n",
    "    am_pm=\"am\"\n",
    "print(total_time,am_pm)    "
   ]
  },
  {
   "cell_type": "code",
   "execution_count": null,
   "id": "dcf6ecba",
   "metadata": {},
   "outputs": [],
   "source": [
    "# an int is called squere-free if it is not divisiable by any perfect square other than 1 for instance 42 is squere-free number because 1,2,6,7 and non of them is perfect square but 45 is not square-free.wap to take input from user and check if it is square-free or not.\n",
    "num=int(input(\"enter the number\"))\n",
    "flag=0\n",
    "for i in range(2,num):\n",
    "    if num%i==0:\n",
    "        if(num%(i**2)==0):\n",
    "            flag+=1\n",
    "if flag==0:\n",
    "    print(\"it is square-free:\")\n",
    "else:\n",
    "    print(\"not square-free:\")"
   ]
  },
  {
   "cell_type": "code",
   "execution_count": null,
   "id": "ea4dced3",
   "metadata": {},
   "outputs": [],
   "source": [
    "# write all integer solution of x^2-2y^2=1 x between 1 to 100\n",
    "for i in range(1,101):\n",
    "    for j in range(1,101):\n",
    "        if(i**2)-2*(j**2)==1:\n",
    "            print(i,j)"
   ]
  },
  {
   "cell_type": "code",
   "execution_count": null,
   "id": "bf12a7d7",
   "metadata": {},
   "outputs": [],
   "source": [
    "#write a code that gives an amount of change for 1$ and it prints out exact the denomation that will be needed for change\n",
    "x=float(input(\"enter value (less than 1 $):\"))\n",
    "quarter=0\n",
    "dime=0\n",
    "nickel=0\n",
    "penny=0\n",
    "if x<1:\n",
    "    while x!=0 and x>0.25:\n",
    "        quarter+=1\n",
    "        x=x-0.25\n",
    "    while x!=0 and x>=0.10:\n",
    "        dime+=1\n",
    "        x=x-0.10\n",
    "    while x!=0 and x>=0.05:\n",
    "        nickel+=1\n",
    "        x=x-0.05\n",
    "    while x!=0 and x>=0.0:\n",
    "        x=x-0.01\n",
    "        penny+=1\n",
    "print(\"quarter:\",quarter)\n",
    "print(\"dime:\",dime)\n",
    "print(\"nickel:\",nickel)\n",
    "print(\"penny:\",penny)"
   ]
  },
  {
   "cell_type": "code",
   "execution_count": null,
   "id": "b1ec80ca",
   "metadata": {},
   "outputs": [],
   "source": [
    "# suppose you put one rupees in a bank at 1st day(mon) and every day from next day (tues to sum)you put in one rupees more\n",
    "# than the day before and on every sub sequance mon you will put one rupees more than the previouse mon,if you have number n\n",
    "# find total amount of maney at the end of n the day\n",
    "day=int(input(\"enter the day\"))\n",
    "temp=day\n",
    "rupee=0\n",
    "val=0\n",
    "j=0\n",
    "for i in range(1,temp+1):\n",
    "    if i%8==0:\n",
    "        val=0\n",
    "        j+=1\n",
    "    rupee=rupee+val+j+1\n",
    "    val=+1\n",
    "print(\"rupees:\",rupee)    "
   ]
  },
  {
   "cell_type": "code",
   "execution_count": 7,
   "id": "1dedd68e",
   "metadata": {},
   "outputs": [
    {
     "name": "stdout",
     "output_type": "stream",
     "text": [
      "1 7 10 13 19 23 28 "
     ]
    }
   ],
   "source": [
    "for n in range(1,30):\n",
    "    res=n\n",
    "    while res!=1 and res!=4:\n",
    "        sum=0\n",
    "        r=0\n",
    "        while res>0:\n",
    "            r=res%10\n",
    "            sum=sum+r**2\n",
    "            res=res//10\n",
    "        res=sum   \n",
    "    if res==1:\n",
    "        print(n,end=\" \")\n",
    "            "
   ]
  },
  {
   "cell_type": "code",
   "execution_count": 10,
   "id": "eb6cac2a",
   "metadata": {},
   "outputs": [
    {
     "name": "stdout",
     "output_type": "stream",
     "text": [
      "enter the number of row:6\n",
      "            \n",
      "          1   \n",
      "        1   1   \n",
      "      1   2   1   \n",
      "    1   3   3   1   \n",
      "  1   4   6   4   1   \n",
      "1   5   10   10   5   1   \n"
     ]
    }
   ],
   "source": [
    "# pascal triangle\n",
    "n=int(input(\"enter the number of row:\"))\n",
    "for i in range(n+1):\n",
    "    for j in range(n-i):\n",
    "        print(\" \",end=\" \")\n",
    "    c=1\n",
    "    for k in range(1,i+1):\n",
    "        print(c,\" \",sep=\" \",end=\" \")\n",
    "        c=c*(i-k)//k\n",
    "    print()   "
   ]
  },
  {
   "cell_type": "code",
   "execution_count": 4,
   "id": "9919ad55",
   "metadata": {},
   "outputs": [
    {
     "name": "stdout",
     "output_type": "stream",
     "text": [
      "1 1 1 1 1 6 = 6\n",
      "1 1 1 1 2 3 = 6\n",
      "1 1 1 1 3 2 = 6\n",
      "1 1 1 1 6 1 = 6\n",
      "1 1 1 2 1 3 = 6\n",
      "1 1 1 2 3 1 = 6\n",
      "1 1 1 3 1 2 = 6\n",
      "1 1 1 3 2 1 = 6\n",
      "1 1 1 6 1 1 = 6\n",
      "1 1 2 1 1 3 = 6\n",
      "1 1 2 1 3 1 = 6\n",
      "1 1 2 3 1 1 = 6\n",
      "1 1 3 1 1 2 = 6\n",
      "1 1 3 1 2 1 = 6\n",
      "1 1 3 2 1 1 = 6\n",
      "1 1 6 1 1 1 = 6\n",
      "1 2 1 1 1 3 = 6\n",
      "1 2 1 1 3 1 = 6\n",
      "1 2 1 3 1 1 = 6\n",
      "1 2 3 1 1 1 = 6\n",
      "1 3 1 1 1 2 = 6\n",
      "1 3 1 1 2 1 = 6\n",
      "1 3 1 2 1 1 = 6\n",
      "1 3 2 1 1 1 = 6\n",
      "1 6 1 1 1 1 = 6\n",
      "2 1 1 1 1 3 = 6\n",
      "2 1 1 1 3 1 = 6\n",
      "2 1 1 3 1 1 = 6\n",
      "2 1 3 1 1 1 = 6\n",
      "2 3 1 1 1 1 = 6\n",
      "3 1 1 1 1 2 = 6\n",
      "3 1 1 1 2 1 = 6\n",
      "3 1 1 2 1 1 = 6\n",
      "3 1 2 1 1 1 = 6\n",
      "3 2 1 1 1 1 = 6\n",
      "6 1 1 1 1 1 = 6\n"
     ]
    }
   ],
   "source": [
    "def sol(n):\n",
    "    \n",
    "    for a in range(1,n+1):\n",
    "        for b in range(1,n+1):\n",
    "            for c in range(1,n+1):\n",
    "                for d in range(1,n+1):\n",
    "                    for e in range(1,n+1):\n",
    "                        for f in range(1,n+1):\n",
    "                            product=a*b*c*d*e*f\n",
    "                            if product==n:\n",
    "                                print(a,b,c,d,e,f,\"=\",n)\n",
    "n=6\n",
    "sol(n)"
   ]
  },
  {
   "cell_type": "code",
   "execution_count": 19,
   "id": "59d4ad7a",
   "metadata": {},
   "outputs": [
    {
     "name": "stdout",
     "output_type": "stream",
     "text": [
      "enter the num:4\n"
     ]
    },
    {
     "data": {
      "text/plain": [
       "2.0"
      ]
     },
     "execution_count": 19,
     "metadata": {},
     "output_type": "execute_result"
    }
   ],
   "source": [
    "# find the value of under root 2 and other root number\n",
    "def guess1(n):\n",
    "    guess=0\n",
    "    guess=n/2\n",
    "    for i in range(11):\n",
    "        guess=0.5*(guess+n/guess)\n",
    "    return guess\n",
    "n=int(input(\"enter the num:\"))\n",
    "guess1(n)"
   ]
  },
  {
   "cell_type": "code",
   "execution_count": 24,
   "id": "37d0b439",
   "metadata": {},
   "outputs": [
    {
     "name": "stdout",
     "output_type": "stream",
     "text": [
      "1 12   9 10  = 1729\n",
      "1 12   10 9  = 1729\n",
      "2 16   9 15  = 4104\n",
      "2 16   15 9  = 4104\n",
      "2 24   18 20  = 13832\n",
      "2 24   20 18  = 13832\n",
      "9 10   1 12  = 1729\n",
      "9 10   12 1  = 1729\n",
      "9 15   2 16  = 4104\n",
      "9 15   16 2  = 4104\n",
      "10 9   1 12  = 1729\n",
      "10 9   12 1  = 1729\n",
      "10 27   19 24  = 20683\n",
      "10 27   24 19  = 20683\n",
      "12 1   9 10  = 1729\n",
      "12 1   10 9  = 1729\n",
      "15 9   2 16  = 4104\n",
      "15 9   16 2  = 4104\n",
      "16 2   9 15  = 4104\n",
      "16 2   15 9  = 4104\n",
      "18 20   2 24  = 13832\n",
      "18 20   24 2  = 13832\n",
      "19 24   10 27  = 20683\n",
      "19 24   27 10  = 20683\n",
      "20 18   2 24  = 13832\n",
      "20 18   24 2  = 13832\n",
      "24 2   18 20  = 13832\n",
      "24 2   20 18  = 13832\n",
      "24 19   10 27  = 20683\n",
      "24 19   27 10  = 20683\n",
      "27 10   19 24  = 20683\n",
      "27 10   24 19  = 20683\n"
     ]
    }
   ],
   "source": [
    "# ramanujan number\n",
    "for a in range(1,30):\n",
    "    for b in range(1,30):\n",
    "        for c in range(1,30):\n",
    "            for d in range(1,30):\n",
    "                if a!=b and c!=d and a!=c and a!=d and c!=b :\n",
    "                    x=a**3+b**3\n",
    "                    y=c**3+d**3\n",
    "                    if (x==y):\n",
    "                            print(a,b,\" \",c,d,\" =\",x)\n",
    "                    "
   ]
  },
  {
   "cell_type": "code",
   "execution_count": 48,
   "id": "17105473",
   "metadata": {},
   "outputs": [
    {
     "name": "stdout",
     "output_type": "stream",
     "text": [
      "hi\n",
      "hi\n"
     ]
    }
   ],
   "source": [
    "y=\"hi\"\n",
    "def sol():\n",
    "    \n",
    "    print(y)\n",
    "sol() \n",
    "print(y)\n",
    "        "
   ]
  },
  {
   "cell_type": "code",
   "execution_count": null,
   "id": "49b524f4",
   "metadata": {},
   "outputs": [],
   "source": []
  }
 ],
 "metadata": {
  "kernelspec": {
   "display_name": "Python 3 (ipykernel)",
   "language": "python",
   "name": "python3"
  },
  "language_info": {
   "codemirror_mode": {
    "name": "ipython",
    "version": 3
   },
   "file_extension": ".py",
   "mimetype": "text/x-python",
   "name": "python",
   "nbconvert_exporter": "python",
   "pygments_lexer": "ipython3",
   "version": "3.11.5"
  }
 },
 "nbformat": 4,
 "nbformat_minor": 5
}
