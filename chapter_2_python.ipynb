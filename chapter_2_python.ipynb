{
 "cells": [
  {
   "cell_type": "code",
   "execution_count": null,
   "id": "15ec08db",
   "metadata": {},
   "outputs": [],
   "source": [
    "for i in range(10):\n",
    "    if i == 5:\n",
    "        break\n",
    "    else:\n",
    "        print(i)\n",
    "else:\n",
    "    print(\"Here\")"
   ]
  },
  {
   "cell_type": "code",
   "execution_count": null,
   "id": "88a8c833",
   "metadata": {},
   "outputs": [],
   "source": [
    "Step = 10 \n",
    "for e in range(0, Step): \n",
    "    if e%2==0: \n",
    "        print('hello') \n",
    "    else: \n",
    "        print('goodbye')   "
   ]
  },
  {
   "cell_type": "code",
   "execution_count": null,
   "id": "36847185",
   "metadata": {},
   "outputs": [],
   "source": [
    "#True and False\n",
    "#False or True\n",
    "#False and (True or False)\n",
    " \n",
    "True and (True or False)"
   ]
  },
  {
   "cell_type": "code",
   "execution_count": null,
   "id": "d73b2dfd",
   "metadata": {},
   "outputs": [],
   "source": [
    "a=5\n",
    "b=7\n",
    "c=2\n",
    "if a>b:\n",
    "    a,b = b,a\n",
    "if a>c:\n",
    "    a,c = c,a\n",
    "if b>c:\n",
    "    b,c = c,b\n",
    " \n",
    "    print(a,b,c,end=\",\")"
   ]
  },
  {
   "cell_type": "code",
   "execution_count": null,
   "id": "4d90f3a6",
   "metadata": {},
   "outputs": [],
   "source": [
    "for i in range(5):\n",
    "    if i==2:\n",
    "        continue\n",
    " print(i)"
   ]
  },
  {
   "cell_type": "code",
   "execution_count": null,
   "id": "67715958",
   "metadata": {},
   "outputs": [],
   "source": [
    "# Function to calculate Gross Pay\n",
    "def calculate_gross_pay(grade_level, city):\n",
    "    if grade_level == 'A':\n",
    "        basic_pay = 60000\n",
    "        other_allowances = 8000\n",
    "    elif grade_level == 'B':\n",
    "        basic_pay = 50000\n",
    "        other_allowances = 7000\n",
    "    elif grade_level == 'C':\n",
    "        basic_pay = 40000\n",
    "        other_allowances = 6000\n",
    "    elif grade_level == 'D':\n",
    "        basic_pay = 30000\n",
    "        other_allowances = 5000\n",
    "    elif grade_level == 'E':\n",
    "        basic_pay = 20000\n",
    "        other_allowances = 4000\n",
    "    elif grade_level == 'F':\n",
    "        basic_pay = 10000\n",
    "        other_allowances = 3000\n",
    "    else:\n",
    "        print(\"Invalid grade level entered.\")\n",
    "        return None\n",
    "\n",
    "    hra = calculate_hra(grade_level, city)\n",
    "    dra = 0.5 * basic_pay\n",
    "    transport_allowance = 900\n",
    "    professional_tax = 200\n",
    "    epf = 0.11 * basic_pay\n",
    "\n",
    "    gross_pay = basic_pay + hra + dra + other_allowances + transport_allowance - professional_tax - epf\n",
    "    return gross_pay\n",
    "\n",
    "# Function to calculate HRA based on city\n",
    "def calculate_hra(grade_level, city):\n",
    "    basic_pay = 0\n",
    "    if grade_level == 'A':\n",
    "        basic_pay = 60000\n",
    "    elif grade_level == 'B':\n",
    "        basic_pay = 50000\n",
    "    elif grade_level == 'C':\n",
    "        basic_pay = 40000\n",
    "    elif grade_level == 'D':\n",
    "        basic_pay = 30000\n",
    "    elif grade_level == 'E':\n",
    "        basic_pay = 20000\n",
    "    elif grade_level == 'F':\n",
    "        basic_pay = 10000\n",
    "\n",
    "    if city == 1:\n",
    "        return 0.3 * basic_pay\n",
    "    elif city == 2:\n",
    "        return 0.2 * basic_pay\n",
    "    elif city == 3:\n",
    "        return 0.1 * basic_pay\n",
    "    else:\n",
    "        print(\"Invalid city entered.\")\n",
    "        return None\n",
    "\n",
    "# Function to calculate Income Tax\n",
    "def calculate_income_tax(annual_income):\n",
    "    if annual_income <= 250000:\n",
    "        return 0\n",
    "    elif 250001 <= annual_income <= 500000:\n",
    "        return 0.05 * (annual_income - 250000)\n",
    "    elif 500001 <= annual_income <= 750000:\n",
    "        return 0.10 * (annual_income - 500000) + 12500\n",
    "    elif 750001 <= annual_income <= 1000000:\n",
    "        return 0.15 * (annual_income - 750000) + 37500\n",
    "    elif 1000001 <= annual_income <= 1250000:\n",
    "        return 0.20 * (annual_income - 1000000) + 75000\n",
    "    elif 1250001 <= annual_income <= 1500000:\n",
    "        return 0.25 * (annual_income - 1250000) + 125000\n",
    "    else:\n",
    "        return 0.30 * (annual_income - 1500000) + 187500\n",
    "\n",
    "# Input from user\n",
    "grade_level = input(\"Enter the grade level (A, B, C, D, E, or F): \").upper()\n",
    "city = int(input(\"Enter the city (1, 2, or 3): \"))\n",
    "\n",
    "# Calculate Gross Pay, Annual Income, and Income Tax\n",
    "gross_pay = calculate_gross_pay(grade_level, city)\n",
    "\n",
    "if gross_pay != None:\n",
    "    annual_income = gross_pay * 12\n",
    "    income_tax = calculate_income_tax(annual_income)\n",
    "\n",
    "    # Display results\n",
    "    print(f\"Gross Pay of an Employee is: {gross_pay}\")\n",
    "    print(f\"Annual income of an employee is: {annual_income}\")\n",
    "    print(f\"Income Tax to be paid by an employee is: {income_tax}\")"
   ]
  },
  {
   "cell_type": "code",
   "execution_count": null,
   "id": "1f643483",
   "metadata": {},
   "outputs": [],
   "source": [
    "def analyze_scores():\n",
    "    highest = None\n",
    "    second_largest = None\n",
    "    lowest = None\n",
    "    second_lowest = None\n",
    "    total = 0\n",
    "    count = 0\n",
    "    has_warning = False\n",
    "\n",
    "    for i in range(10):\n",
    "        score = float(input(f\"Enter test score {i + 1}: \"))\n",
    "\n",
    "        if score > 100:\n",
    "            has_warning = True\n",
    "\n",
    "        # Initialize values on the first iteration\n",
    "        if count == 0:\n",
    "            highest = score\n",
    "            lowest = score\n",
    "        else:\n",
    "            # Find highest score\n",
    "            if score > highest:\n",
    "                second_largest = highest\n",
    "                highest = score\n",
    "            elif second_largest == None or score > second_largest:\n",
    "                second_largest = score\n",
    "\n",
    "            # Find lowest score\n",
    "            if score < lowest:\n",
    "                second_lowest = lowest\n",
    "                lowest = score\n",
    "            elif second_lowest == None or score < second_lowest:\n",
    "                second_lowest = score\n",
    "\n",
    "        # Find average\n",
    "        total += score\n",
    "        count += 1\n",
    "\n",
    "    average = total / count\n",
    "\n",
    "    # Display results\n",
    "    print(\"Highest Score:\", highest)\n",
    "    print(\"Second Largest Score:\", second_largest if count > 1 \\\n",
    "          else \"There is no second largest score.\")\n",
    "    print(\"Lowest Score:\", lowest)\n",
    "    print(\"Average Score:\", average)\n",
    "\n",
    "    if has_warning:\n",
    "        print(\"Warning: A score over 100 has been entered.\")\n",
    "\n",
    "    # Calculate average after dropping two lowest scores\n",
    "    if count > 2:\n",
    "        total_after_dropping = total - lowest - second_lowest\n",
    "        count_after_dropping = count - 2\n",
    "        average_after_dropping = total_after_dropping / count_after_dropping\n",
    "        print(\"Average after dropping two lowest scores:\", average_after_dropping)\n",
    "    else:\n",
    "        print(\"There are not enough scores to calculate \\\n",
    "        the average after dropping two lowest scores.\")\n",
    "\n",
    "\n",
    "# Call the function to analyze the scores\n",
    "analyze_scores()"
   ]
  },
  {
   "cell_type": "code",
   "execution_count": null,
   "id": "98280da7",
   "metadata": {},
   "outputs": [],
   "source": [
    "n = 0\n",
    "\n",
    "while n <= 0 or n % 2 == 0:\n",
    "    n = int(input(\"Enter an odd number as the number of lines: \"))\n",
    "\n",
    "for i in range(1, n + 1):\n",
    "    for j in range(1, n + 1):\n",
    "        if (i <= n // 2 and j > i and j <= n - i) or (i > n // 2 and j < i and j > n - i + 1):\n",
    "            print(\" \", end=\"\")\n",
    "        else:\n",
    "            print(\"*\", end=\"\")\n",
    "    print()"
   ]
  },
  {
   "cell_type": "code",
   "execution_count": null,
   "id": "c77dd502",
   "metadata": {},
   "outputs": [],
   "source": [
    "x=6\n",
    "if x%2==0:\n",
    "    print(x)\n",
    "else:\n",
    "    print(\"print not posible\")\n",
    "    "
   ]
  },
  {
   "cell_type": "code",
   "execution_count": null,
   "id": "5feb6fc1",
   "metadata": {},
   "outputs": [],
   "source": [
    "x=int(input(\"enter the number:\"))\n",
    "if x>0:\n",
    "    print(\" x is possitive\")\n",
    "    if x%2==0:\n",
    "        print(\"x is also even\")\n",
    "    else:\n",
    "        print(\" x is also odd\")\n",
    "else:\n",
    "    print(\"x is negative\")"
   ]
  },
  {
   "cell_type": "code",
   "execution_count": null,
   "id": "3cab1d94",
   "metadata": {},
   "outputs": [],
   "source": [
    "for i in range(1,10):\n",
    "    if i==6:\n",
    "        break\n",
    "    print(i)\n",
    "else:\n",
    "    print(\"all include\")"
   ]
  },
  {
   "cell_type": "code",
   "execution_count": null,
   "id": "3d038c5c",
   "metadata": {},
   "outputs": [],
   "source": [
    "list(range(10,0,-1))"
   ]
  },
  {
   "cell_type": "code",
   "execution_count": null,
   "id": "6bdb8971",
   "metadata": {},
   "outputs": [],
   "source": [
    "i=1\n",
    "while i<6:\n",
    "    print(i)\n",
    "    if i==4:\n",
    "        break\n",
    "    i=i+1\n",
    "else:\n",
    "    print(\"i ia greter then 6\")"
   ]
  },
  {
   "cell_type": "code",
   "execution_count": null,
   "id": "db60f883",
   "metadata": {},
   "outputs": [],
   "source": [
    "for i in range(1,10):\n",
    "    if i==5:\n",
    "        pass\n",
    "    else:\n",
    "        print(i)"
   ]
  },
  {
   "cell_type": "code",
   "execution_count": null,
   "id": "8f264c55",
   "metadata": {},
   "outputs": [],
   "source": [
    "for i in range(5):\n",
    "    pass\n",
    "    print(i)"
   ]
  },
  {
   "cell_type": "code",
   "execution_count": null,
   "id": "39257e15",
   "metadata": {},
   "outputs": [],
   "source": [
    " a = 33\n",
    "b = 200\n",
    "if b > a:\n",
    "    pass"
   ]
  },
  {
   "cell_type": "code",
   "execution_count": null,
   "id": "1f7eadd7",
   "metadata": {},
   "outputs": [],
   "source": [
    "i=1\n",
    "while True:\n",
    "    if i%2==0:\n",
    "        break\n",
    "    print(i)\n",
    "    i=i+2"
   ]
  },
  {
   "cell_type": "code",
   "execution_count": null,
   "id": "6e408253",
   "metadata": {},
   "outputs": [],
   "source": [
    "True=False\n",
    "while True:\n",
    "    print(True)\n",
    "    break"
   ]
  },
  {
   "cell_type": "code",
   "execution_count": 2,
   "id": "46e062c1",
   "metadata": {},
   "outputs": [
    {
     "ename": "IndentationError",
     "evalue": "expected an indented block after 'else' statement on line 5 (1079886214.py, line 6)",
     "output_type": "error",
     "traceback": [
      "\u001b[1;36m  Cell \u001b[1;32mIn[2], line 6\u001b[1;36m\u001b[0m\n\u001b[1;33m    print(\"bad\")\u001b[0m\n\u001b[1;37m    ^\u001b[0m\n\u001b[1;31mIndentationError\u001b[0m\u001b[1;31m:\u001b[0m expected an indented block after 'else' statement on line 5\n"
     ]
    }
   ],
   "source": [
    "if (9<0) and (0<-9):\n",
    "    print(\"hello\")\n",
    "elif (9>0) or False:\n",
    "    print(\"good\")\n",
    "else:\n",
    "print(\"bad\")\n",
    "    "
   ]
  },
  {
   "cell_type": "code",
   "execution_count": null,
   "id": "72ad6ce0",
   "metadata": {},
   "outputs": [],
   "source": []
  }
 ],
 "metadata": {
  "kernelspec": {
   "display_name": "Python 3 (ipykernel)",
   "language": "python",
   "name": "python3"
  },
  "language_info": {
   "codemirror_mode": {
    "name": "ipython",
    "version": 3
   },
   "file_extension": ".py",
   "mimetype": "text/x-python",
   "name": "python",
   "nbconvert_exporter": "python",
   "pygments_lexer": "ipython3",
   "version": "3.11.5"
  }
 },
 "nbformat": 4,
 "nbformat_minor": 5
}
