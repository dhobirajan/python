{
 "cells": [
  {
   "cell_type": "markdown",
   "metadata": {},
   "source": [
    "<center><h1> NUMPY EXERCISE </h1></center>"
   ]
  },
  {
   "cell_type": "markdown",
   "metadata": {},
   "source": [
    "## Create a 1D NumPy array named arr1 with elements [1, 2, 3, 4, 5]."
   ]
  },
  {
   "cell_type": "code",
   "execution_count": 6,
   "metadata": {},
   "outputs": [
    {
     "name": "stdout",
     "output_type": "stream",
     "text": [
      "[1 2 3 4 5]\n"
     ]
    }
   ],
   "source": [
    "import numpy as np\n",
    "arr1=np.arange(1,6)\n",
    "print(arr1)"
   ]
  },
  {
   "cell_type": "markdown",
   "metadata": {},
   "source": [
    "## Create a 2D NumPy array named arr2 with elements [[6, 7, 8], [9, 10, 11]]."
   ]
  },
  {
   "cell_type": "code",
   "execution_count": 4,
   "metadata": {},
   "outputs": [
    {
     "name": "stdout",
     "output_type": "stream",
     "text": [
      "[[ 6  7  8]\n",
      " [ 9 10 11]]\n"
     ]
    }
   ],
   "source": [
    "arr2=np.arange(6,12).reshape(2,3)\n",
    "print(arr2)"
   ]
  },
  {
   "cell_type": "markdown",
   "metadata": {},
   "source": [
    "## Perform array indexing to extract the element 4 from arr1 and the element 10 from arr2."
   ]
  },
  {
   "cell_type": "code",
   "execution_count": 10,
   "metadata": {},
   "outputs": [
    {
     "name": "stdout",
     "output_type": "stream",
     "text": [
      "4\n",
      "10\n"
     ]
    }
   ],
   "source": [
    "print(arr1.item(3))\n",
    "print(arr2.item(1,1))"
   ]
  },
  {
   "cell_type": "markdown",
   "metadata": {},
   "source": [
    "## Use array slicing to create a new 1D array slice_arr from arr1 containing elements [2, 3, 4]."
   ]
  },
  {
   "cell_type": "code",
   "execution_count": 18,
   "metadata": {},
   "outputs": [
    {
     "data": {
      "text/plain": [
       "array([2, 3, 4])"
      ]
     },
     "execution_count": 18,
     "metadata": {},
     "output_type": "execute_result"
    }
   ],
   "source": [
    "arr1[1:4]"
   ]
  },
  {
   "cell_type": "markdown",
   "metadata": {},
   "source": [
    "## Determine the shape of arr2."
   ]
  },
  {
   "cell_type": "code",
   "execution_count": 11,
   "metadata": {},
   "outputs": [
    {
     "data": {
      "text/plain": [
       "(2, 3)"
      ]
     },
     "execution_count": 11,
     "metadata": {},
     "output_type": "execute_result"
    }
   ],
   "source": [
    "arr2.shape"
   ]
  },
  {
   "cell_type": "markdown",
   "metadata": {},
   "source": [
    "## Reshape arr1 into a 3x2 array named reshaped_arr."
   ]
  },
  {
   "cell_type": "code",
   "execution_count": 15,
   "metadata": {},
   "outputs": [
    {
     "name": "stdout",
     "output_type": "stream",
     "text": [
      "[[1 2]\n",
      " [3 4]\n",
      " [5 6]]\n"
     ]
    }
   ],
   "source": [
    "arr1=np.arange(1,7)\n",
    "print(arr1.reshape(3,2))\n"
   ]
  },
  {
   "cell_type": "markdown",
   "metadata": {},
   "source": [
    "## Iterate through the elements of arr2 and print each element."
   ]
  },
  {
   "cell_type": "code",
   "execution_count": 23,
   "metadata": {},
   "outputs": [
    {
     "name": "stdout",
     "output_type": "stream",
     "text": [
      "6\n",
      "7\n",
      "8\n",
      "9\n",
      "10\n",
      "11\n"
     ]
    }
   ],
   "source": [
    "arr2=np.arange(6,12).reshape(2,3)\n",
    "for i in np.nditer(arr2):\n",
    "    print(i)"
   ]
  },
  {
   "cell_type": "markdown",
   "metadata": {},
   "source": [
    "## Use the np.concatenate function to concatenate arr1 and arr2 horizontally into a new array named concatenated_arr."
   ]
  },
  {
   "cell_type": "code",
   "execution_count": 27,
   "metadata": {},
   "outputs": [
    {
     "name": "stdout",
     "output_type": "stream",
     "text": [
      "[[0 1 2]\n",
      " [3 4 5]]\n",
      "[[ 6  7  8]\n",
      " [ 9 10 11]]\n"
     ]
    },
    {
     "data": {
      "text/plain": [
       "array([[ 0,  1,  2,  6,  7,  8],\n",
       "       [ 3,  4,  5,  9, 10, 11]])"
      ]
     },
     "execution_count": 27,
     "metadata": {},
     "output_type": "execute_result"
    }
   ],
   "source": [
    "c=np.arange(6).reshape(2,3)\n",
    "d=np.arange(6,12).reshape(2,3)\n",
    "print(c)\n",
    "print(d)\n",
    "np.concatenate((c,d),axis=1)"
   ]
  },
  {
   "cell_type": "markdown",
   "metadata": {},
   "source": [
    "## Use the np.array_split function to split concatenated_arr into three equal-sized arrays."
   ]
  },
  {
   "cell_type": "code",
   "execution_count": 28,
   "metadata": {},
   "outputs": [
    {
     "name": "stdout",
     "output_type": "stream",
     "text": [
      "[array([1, 2]), array([3, 4]), array([5, 6])]\n"
     ]
    }
   ],
   "source": [
    "a=np.array([1,2,3,4,5,6])\n",
    "new=np.array_split(a,3)\n",
    "print(new)"
   ]
  },
  {
   "cell_type": "markdown",
   "metadata": {},
   "source": [
    "## Use the np.where function to find the indices of elements in concatenated_arr that are greater than 5."
   ]
  },
  {
   "cell_type": "code",
   "execution_count": 30,
   "metadata": {},
   "outputs": [
    {
     "name": "stdout",
     "output_type": "stream",
     "text": [
      "[ 1  2  3  4  5  6  7  8  9 10 11 12 13 14 15 16 17 18 19]\n",
      "(array([10, 11, 12, 13, 14, 15, 16, 17, 18], dtype=int64),)\n"
     ]
    }
   ],
   "source": [
    "y=np.arange(1,20)\n",
    "print(y)\n",
    "print(np.where(y>10))"
   ]
  },
  {
   "cell_type": "markdown",
   "metadata": {},
   "source": [
    "## Use the np.sort function to sort arr1 in ascending order."
   ]
  },
  {
   "cell_type": "code",
   "execution_count": 32,
   "metadata": {},
   "outputs": [
    {
     "name": "stdout",
     "output_type": "stream",
     "text": [
      "[1 3 4 5 6]\n",
      "[6 5 4 3 1]\n"
     ]
    }
   ],
   "source": [
    "a=np.array([5,1,3,6,4])\n",
    "print(np.sort(a))\n",
    "print(np.sort(a)[::-1])"
   ]
  },
  {
   "cell_type": "markdown",
   "metadata": {},
   "source": [
    "__.__\n",
    "<!-- import numpy as np\n",
    "\n",
    "# 1. Create a 1D array\n",
    "arr1 = np.array([1, 2, 3, 4, 5])\n",
    "\n",
    "# 2. Create a 2D array\n",
    "arr2 = np.array([[6, 7, 8], [9, 10, 11]])\n",
    "\n",
    "# 3. Array indexing\n",
    "element_from_arr1 = arr1[3]  # Element: 4\n",
    "element_from_arr2 = arr2[1, 1]  # Element: 10\n",
    "\n",
    "# 4. Array slicing\n",
    "slice_arr = arr1[1:4]  # Elements: [2, 3, 4]\n",
    "\n",
    "# 5. Determine the shape\n",
    "shape_of_arr2 = arr2.shape  # Shape: (2, 3)\n",
    "\n",
    "# 6. Reshape arr1 (using size 5)\n",
    "reshaped_arr = arr1.reshape(1, 5)  # Reshape to a 1x5 array\n",
    "\n",
    "# 7. Iteration\n",
    "for element in np.nditer(arr2):\n",
    "    print(element)\n",
    "\n",
    "# 8. Concatenate horizontally after reshaping arr1\n",
    "reshaped_arr = np.repeat(reshaped_arr, arr2.shape[0], axis=0)  # Repeat rows to match arr2\n",
    "concatenated_arr = np.concatenate((reshaped_arr, arr2), axis=1)\n",
    "\n",
    "# 9. Array splitting\n",
    "split_arrays = np.array_split(concatenated_arr, 3)\n",
    "\n",
    "# 10. np.where\n",
    "indices_gt_5 = np.where(concatenated_arr > 5)\n",
    "\n",
    "# 11. np.sort\n",
    "sorted_arr1 = np.sort(arr1)\n",
    "\n",
    "# Display results\n",
    "print(\"Element from arr1:\", element_from_arr1)\n",
    "print(\"Element from arr2:\", element_from_arr2)\n",
    "print(\"Sliced array:\", slice_arr)\n",
    "print(\"Shape of arr2:\", shape_of_arr2)\n",
    "print(\"Reshaped arr1:\", reshaped_arr)\n",
    "print(\"Concatenated array:\", concatenated_arr)\n",
    "print(\"Split arrays:\", split_arrays)\n",
    "print(\"Indices greater than 5:\", indices_gt_5)\n",
    "print(\"Sorted arr1:\", sorted_arr1)\n",
    " -->"
   ]
  }
 ],
 "metadata": {
  "kernelspec": {
   "display_name": "Python 3",
   "language": "python",
   "name": "python3"
  },
  "language_info": {
   "codemirror_mode": {
    "name": "ipython",
    "version": 3
   },
   "file_extension": ".py",
   "mimetype": "text/x-python",
   "name": "python",
   "nbconvert_exporter": "python",
   "pygments_lexer": "ipython3",
   "version": "3.8.5"
  }
 },
 "nbformat": 4,
 "nbformat_minor": 5
}
