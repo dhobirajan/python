{
 "cells": [
  {
   "cell_type": "code",
   "execution_count": 1,
   "id": "baab3cb0",
   "metadata": {},
   "outputs": [],
   "source": [
    "#exception"
   ]
  },
  {
   "cell_type": "code",
   "execution_count": 1,
   "id": "3bdfa44e",
   "metadata": {},
   "outputs": [
    {
     "name": "stdout",
     "output_type": "stream",
     "text": [
      "enter valuest6\n",
      "name 't6' is not defined\n",
      "<class 'NameError'>\n"
     ]
    }
   ],
   "source": [
    "try:\n",
    "    a = eval(input(\"enter values\"))\n",
    "except Exception as e:\n",
    "    print(e)\n",
    "    print(type(e))       \n",
    "        "
   ]
  },
  {
   "cell_type": "code",
   "execution_count": 5,
   "id": "4c3374b0",
   "metadata": {},
   "outputs": [
    {
     "ename": "SyntaxError",
     "evalue": "'(' was never closed (3574113349.py, line 6)",
     "output_type": "error",
     "traceback": [
      "\u001b[1;36m  Cell \u001b[1;32mIn[5], line 6\u001b[1;36m\u001b[0m\n\u001b[1;33m    print(c\u001b[0m\n\u001b[1;37m         ^\u001b[0m\n\u001b[1;31mSyntaxError\u001b[0m\u001b[1;31m:\u001b[0m '(' was never closed\n"
     ]
    }
   ],
   "source": [
    "try:\n",
    "    a = 5\n",
    "    b = 10\n",
    "    print(a)\n",
    "    print(b)\n",
    "    print(c\n",
    "except Exception as e:\n",
    "          print(e)"
   ]
  },
  {
   "cell_type": "code",
   "execution_count": 3,
   "id": "1c179a0d",
   "metadata": {},
   "outputs": [
    {
     "name": "stdout",
     "output_type": "stream",
     "text": [
      "enter the num1:7\n",
      "enter the num2:0\n",
      "exception ocurse\n",
      "always print\n"
     ]
    }
   ],
   "source": [
    "num1=int(input(\"enter the num1:\"))\n",
    "num2=int(input(\"enter the num2:\"))\n",
    "try:\n",
    "    div=num1/num2\n",
    "    print(div)\n",
    "except Exception:\n",
    "    print(\"exception ocurse\")\n",
    "else:\n",
    "    print(\"no exception\")\n",
    "finally:\n",
    "    print(\"always print\")"
   ]
  },
  {
   "cell_type": "code",
   "execution_count": 4,
   "id": "c7c5278d",
   "metadata": {},
   "outputs": [
    {
     "name": "stdout",
     "output_type": "stream",
     "text": [
      "enter the num1:5\n",
      "enter the num2:7\n",
      " variable wrong\n",
      "always print\n"
     ]
    }
   ],
   "source": [
    "num1=int(input(\"enter the num1:\"))\n",
    "num2=int(input(\"enter the num2:\"))\n",
    "try:\n",
    "    div=num1/num2\n",
    "    print(di)\n",
    "except ZeroDivisionError:\n",
    "    print(\"zero devition exception ocurse\")\n",
    "except NameError:\n",
    "    print(\" variable wrong\")\n",
    "\n",
    "print(\"always print\")"
   ]
  },
  {
   "cell_type": "code",
   "execution_count": 13,
   "id": "b93f9463",
   "metadata": {},
   "outputs": [
    {
     "name": "stdout",
     "output_type": "stream",
     "text": [
      "enter the num1:3\n",
      "enter the num2:4\n",
      "name 'di' is not defined\n",
      "rest of code\n"
     ]
    }
   ],
   "source": [
    "num1=int(input(\"enter the num1:\"))\n",
    "num2=int(input(\"enter the num2:\"))\n",
    "try:\n",
    "    div=num1/num2\n",
    "    print(di)\n",
    "except Exception as e:\n",
    "    print(e)\n",
    "print(\"rest of code\")"
   ]
  },
  {
   "cell_type": "code",
   "execution_count": 20,
   "id": "e93ddae2",
   "metadata": {},
   "outputs": [
    {
     "ename": "KeyboardInterrupt",
     "evalue": "Interrupted by user",
     "output_type": "error",
     "traceback": [
      "\u001b[1;31m---------------------------------------------------------------------------\u001b[0m",
      "\u001b[1;31mKeyboardInterrupt\u001b[0m                         Traceback (most recent call last)",
      "Cell \u001b[1;32mIn[20], line 2\u001b[0m\n\u001b[0;32m      1\u001b[0m \u001b[38;5;66;03m# print exception name\u001b[39;00m\n\u001b[1;32m----> 2\u001b[0m num1\u001b[38;5;241m=\u001b[39m\u001b[38;5;28mint\u001b[39m(\u001b[38;5;28minput\u001b[39m(\u001b[38;5;124m\"\u001b[39m\u001b[38;5;124menter the num1:\u001b[39m\u001b[38;5;124m\"\u001b[39m))\n\u001b[0;32m      3\u001b[0m num2\u001b[38;5;241m=\u001b[39m\u001b[38;5;28mint\u001b[39m(\u001b[38;5;28minput\u001b[39m(\u001b[38;5;124m\"\u001b[39m\u001b[38;5;124menter the num2:\u001b[39m\u001b[38;5;124m\"\u001b[39m))\n\u001b[0;32m      4\u001b[0m div\u001b[38;5;241m=\u001b[39mnum1\u001b[38;5;241m/\u001b[39mnum2\n",
      "File \u001b[1;32mC:\\ProgramData\\1anaconda3\\Lib\\site-packages\\ipykernel\\kernelbase.py:1202\u001b[0m, in \u001b[0;36mKernel.raw_input\u001b[1;34m(self, prompt)\u001b[0m\n\u001b[0;32m   1200\u001b[0m     msg \u001b[38;5;241m=\u001b[39m \u001b[38;5;124m\"\u001b[39m\u001b[38;5;124mraw_input was called, but this frontend does not support input requests.\u001b[39m\u001b[38;5;124m\"\u001b[39m\n\u001b[0;32m   1201\u001b[0m     \u001b[38;5;28;01mraise\u001b[39;00m StdinNotImplementedError(msg)\n\u001b[1;32m-> 1202\u001b[0m \u001b[38;5;28;01mreturn\u001b[39;00m \u001b[38;5;28mself\u001b[39m\u001b[38;5;241m.\u001b[39m_input_request(\n\u001b[0;32m   1203\u001b[0m     \u001b[38;5;28mstr\u001b[39m(prompt),\n\u001b[0;32m   1204\u001b[0m     \u001b[38;5;28mself\u001b[39m\u001b[38;5;241m.\u001b[39m_parent_ident[\u001b[38;5;124m\"\u001b[39m\u001b[38;5;124mshell\u001b[39m\u001b[38;5;124m\"\u001b[39m],\n\u001b[0;32m   1205\u001b[0m     \u001b[38;5;28mself\u001b[39m\u001b[38;5;241m.\u001b[39mget_parent(\u001b[38;5;124m\"\u001b[39m\u001b[38;5;124mshell\u001b[39m\u001b[38;5;124m\"\u001b[39m),\n\u001b[0;32m   1206\u001b[0m     password\u001b[38;5;241m=\u001b[39m\u001b[38;5;28;01mFalse\u001b[39;00m,\n\u001b[0;32m   1207\u001b[0m )\n",
      "File \u001b[1;32mC:\\ProgramData\\1anaconda3\\Lib\\site-packages\\ipykernel\\kernelbase.py:1245\u001b[0m, in \u001b[0;36mKernel._input_request\u001b[1;34m(self, prompt, ident, parent, password)\u001b[0m\n\u001b[0;32m   1242\u001b[0m \u001b[38;5;28;01mexcept\u001b[39;00m \u001b[38;5;167;01mKeyboardInterrupt\u001b[39;00m:\n\u001b[0;32m   1243\u001b[0m     \u001b[38;5;66;03m# re-raise KeyboardInterrupt, to truncate traceback\u001b[39;00m\n\u001b[0;32m   1244\u001b[0m     msg \u001b[38;5;241m=\u001b[39m \u001b[38;5;124m\"\u001b[39m\u001b[38;5;124mInterrupted by user\u001b[39m\u001b[38;5;124m\"\u001b[39m\n\u001b[1;32m-> 1245\u001b[0m     \u001b[38;5;28;01mraise\u001b[39;00m \u001b[38;5;167;01mKeyboardInterrupt\u001b[39;00m(msg) \u001b[38;5;28;01mfrom\u001b[39;00m \u001b[38;5;28;01mNone\u001b[39;00m\n\u001b[0;32m   1246\u001b[0m \u001b[38;5;28;01mexcept\u001b[39;00m \u001b[38;5;167;01mException\u001b[39;00m:\n\u001b[0;32m   1247\u001b[0m     \u001b[38;5;28mself\u001b[39m\u001b[38;5;241m.\u001b[39mlog\u001b[38;5;241m.\u001b[39mwarning(\u001b[38;5;124m\"\u001b[39m\u001b[38;5;124mInvalid Message:\u001b[39m\u001b[38;5;124m\"\u001b[39m, exc_info\u001b[38;5;241m=\u001b[39m\u001b[38;5;28;01mTrue\u001b[39;00m)\n",
      "\u001b[1;31mKeyboardInterrupt\u001b[0m: Interrupted by user"
     ]
    }
   ],
   "source": [
    "# print exception name\n",
    "num1=int(input(\"enter the num1:\"))\n",
    "num2=int(input(\"enter the num2:\"))\n",
    "div=num1/num2\n",
    "print(div)\n",
    "\n",
    "# (class) ZeroDivisionError: (obj) Division by zero (work as Class:Object)"
   ]
  },
  {
   "cell_type": "code",
   "execution_count": 27,
   "id": "6fc7bcd9",
   "metadata": {},
   "outputs": [
    {
     "name": "stdout",
     "output_type": "stream",
     "text": [
      "enter the num1:8\n",
      "enter the num2:0\n",
      "division by zero\n",
      "rest of code\n"
     ]
    }
   ],
   "source": [
    "num1=int(input(\"enter the num1:\"))\n",
    "num2=int(input(\"enter the num2:\"))\n",
    "try:\n",
    "    div=num1/num2\n",
    "    print(di)\n",
    "except Exception as obj:\n",
    "    print(obj)\n",
    "print(\"rest of code\")    \n"
   ]
  },
  {
   "cell_type": "code",
   "execution_count": 29,
   "id": "bcf97abf",
   "metadata": {},
   "outputs": [
    {
     "name": "stdout",
     "output_type": "stream",
     "text": [
      "enter the num1:5\n",
      "enter the num2:0\n",
      "division by zero\n",
      "<class 'ZeroDivisionError'>\n",
      "rest of code\n"
     ]
    }
   ],
   "source": [
    "num1=int(input(\"enter the num1:\"))\n",
    "num2=int(input(\"enter the num2:\"))\n",
    "try:\n",
    "    div=num1/num2\n",
    "    print(di)\n",
    "except Exception as obj:\n",
    "    print(obj)\n",
    "    print(obj.__class__)\n",
    "print(\"rest of code\")    \n"
   ]
  },
  {
   "cell_type": "code",
   "execution_count": 8,
   "id": "40154a25",
   "metadata": {},
   "outputs": [
    {
     "name": "stdout",
     "output_type": "stream",
     "text": [
      "enter the num1:2\n",
      "enter the num2:0\n",
      "<class 'NameError'>\n",
      "name 'num' is not defined\n",
      "rest of code\n"
     ]
    }
   ],
   "source": [
    "#sys\n",
    "import sys\n",
    "num1=int(input(\"enter the num1:\"))\n",
    "num2=int(input(\"enter the num2:\"))\n",
    "try:\n",
    "    div=num1/num\n",
    "    print(div)\n",
    "except :\n",
    "    print(sys.exc_info()[0]) #return class\n",
    "    print(sys.exc_info()[1]) # return obj \n",
    "print(\"rest of code\")    \n"
   ]
  },
  {
   "cell_type": "code",
   "execution_count": 16,
   "id": "8db783cc",
   "metadata": {},
   "outputs": [
    {
     "name": "stdout",
     "output_type": "stream",
     "text": [
      "enter int:3\n"
     ]
    },
    {
     "ename": "AssertionError",
     "evalue": "enter number greter than 5",
     "output_type": "error",
     "traceback": [
      "\u001b[1;31m---------------------------------------------------------------------------\u001b[0m",
      "\u001b[1;31mAssertionError\u001b[0m                            Traceback (most recent call last)",
      "Cell \u001b[1;32mIn[16], line 2\u001b[0m\n\u001b[0;32m      1\u001b[0m n\u001b[38;5;241m=\u001b[39m\u001b[38;5;28mint\u001b[39m(\u001b[38;5;28minput\u001b[39m(\u001b[38;5;124m\"\u001b[39m\u001b[38;5;124menter int:\u001b[39m\u001b[38;5;124m\"\u001b[39m))\n\u001b[1;32m----> 2\u001b[0m \u001b[38;5;28;01massert\u001b[39;00m n\u001b[38;5;241m>\u001b[39m\u001b[38;5;241m5\u001b[39m,\u001b[38;5;124m\"\u001b[39m\u001b[38;5;124menter number greter than 5\u001b[39m\u001b[38;5;124m\"\u001b[39m\n",
      "\u001b[1;31mAssertionError\u001b[0m: enter number greter than 5"
     ]
    }
   ],
   "source": [
    "n=int(input(\"enter int:\"))\n",
    "assert n>5,\"enter number greter than 5\"\n"
   ]
  },
  {
   "cell_type": "code",
   "execution_count": 29,
   "id": "1d2211fe",
   "metadata": {},
   "outputs": [
    {
     "name": "stdout",
     "output_type": "stream",
     "text": [
      "Insufficient Balance\n"
     ]
    }
   ],
   "source": [
    "class BalanceException (Exception):\n",
    "    \n",
    " #pass\n",
    "    def __init__(self, arg):\n",
    "        self.msg = arg\n",
    " \n",
    "def checkbalance():\n",
    "    money = 10000\n",
    "    withdraw = 9000\n",
    "    try:\n",
    "        balance = money - withdraw\n",
    "        if(balance<=2000):\n",
    "            raise BalanceException('Insufficient Balance')\n",
    "        print(balance)\n",
    "    except BalanceException as be:\n",
    "        print(be)\n",
    "checkbalance() \n",
    "\n",
    "    \n",
    "    "
   ]
  },
  {
   "cell_type": "code",
   "execution_count": null,
   "id": "6a961bd4",
   "metadata": {},
   "outputs": [],
   "source": []
  }
 ],
 "metadata": {
  "kernelspec": {
   "display_name": "Python 3 (ipykernel)",
   "language": "python",
   "name": "python3"
  },
  "language_info": {
   "codemirror_mode": {
    "name": "ipython",
    "version": 3
   },
   "file_extension": ".py",
   "mimetype": "text/x-python",
   "name": "python",
   "nbconvert_exporter": "python",
   "pygments_lexer": "ipython3",
   "version": "3.11.5"
  }
 },
 "nbformat": 4,
 "nbformat_minor": 5
}
