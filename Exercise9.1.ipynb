{
 "cells": [
  {
   "cell_type": "markdown",
   "metadata": {},
   "source": [
    "<h1 style=\"background-color: cyan; box-shadow: 0 4px 8px 0 rgba(0, 0, 0, 0.2), 0 6px 20px 0 rgba(0, 0, 0, 0.19); text-align: center;\">METHOD OVERLOADING AND OVERRIDING</h1>"
   ]
  },
  {
   "cell_type": "markdown",
   "metadata": {},
   "source": [
    "### Exercise 1: Method Overloading\n",
    "\n",
    "**Question 1:** Explain the concept of method overloading in Python. Provide an example demonstrating method overloading with a Python class called `Calculator`. Create an instance of the class and showcase the use of overloaded methods by performing addition with different numbers of arguments.\n",
    "\n",
    "<!-- <hr __here__>\n",
    "**Solution:**\n",
    "```python\n",
    "class Calculator:\n",
    "    def add(self, a, b):\n",
    "        return a + b\n",
    "\n",
    "    def add(self, a, b, c):\n",
    "        return a + b + c\n",
    "\n",
    "# Create an instance of Calculator\n",
    "calculator = Calculator()\n",
    "\n",
    "# Test the overloaded methods\n",
    "result1 = calculator.add(2, 3)\n",
    "result2 = calculator.add(2, 3, 4)\n",
    "\n",
    "# Display the results\n",
    "print(\"Result 1:\", result1)  # Expected output: Result 1: 5\n",
    "print(\"Result 2:\", result2)  # Expected output: Result 2: 9\n",
    "```\n",
    "\n",
    "--- -->"
   ]
  },
  {
   "cell_type": "code",
   "execution_count": 9,
   "metadata": {},
   "outputs": [
    {
     "name": "stdout",
     "output_type": "stream",
     "text": [
      "addition: 5\n",
      "addition: 9\n"
     ]
    }
   ],
   "source": [
    "class Calculator:\n",
    "    def __init__(self,a,b):\n",
    "        self.a=a\n",
    "        self.b=b\n",
    "       \n",
    "    def add(self):\n",
    "        print(\"addition:\",(self.a+self.b))\n",
    "class C:\n",
    "    def __init__(self,a,b,c):\n",
    "        self.a=a\n",
    "        self.b=b\n",
    "        self.c=c\n",
    "    def add(self):\n",
    "        print(\"addition:\",(self.a+self.b+self.c))\n",
    "cal=Calculator(2,3)\n",
    "cal.add()\n",
    "cal1=C(2,3,4)\n",
    "cal1.add()"
   ]
  },
  {
   "cell_type": "markdown",
   "metadata": {},
   "source": [
    "### Exercise 2: Method Overriding\n",
    "\n",
    "**Question 2:** Write a Python program that includes a base class `Shape` and two derived classes `Circle` and `Square`. Show how the `area` method is overridden in both derived classes to calculate the area of a circle and a square.\n",
    "\n",
    "<!-- <hr __here__>\n",
    "**Solution:**\n",
    "```python\n",
    "class Shape:\n",
    "    def area(self):\n",
    "        return 0\n",
    "\n",
    "class Circle(Shape):\n",
    "    def __init__(self, radius):\n",
    "        self.radius = radius\n",
    "\n",
    "    def area(self):\n",
    "        return 3.14 * self.radius ** 2\n",
    "\n",
    "class Square(Shape):\n",
    "    def __init__(self, side):\n",
    "        self.side = side\n",
    "\n",
    "    def area(self):\n",
    "        return self.side ** 2\n",
    "\n",
    "# Create instances of Circle and Square\n",
    "circle = Circle(5)\n",
    "square = Square(4)\n",
    "\n",
    "# Test the overridden area methods\n",
    "circle_area = circle.area()\n",
    "square_area = square.area()\n",
    "\n",
    "# Display the results\n",
    "print(\"Circle Area:\", circle_area)  # Expected output: Circle Area: 78.5\n",
    "print(\"Square Area:\", square_area)  # Expected output: Square Area: 16\n",
    "```\n",
    "\n",
    "---\n",
    "\n",
    " -->"
   ]
  },
  {
   "cell_type": "code",
   "execution_count": 19,
   "metadata": {},
   "outputs": [
    {
     "name": "stdout",
     "output_type": "stream",
     "text": [
      "area of circle: 50.24\n",
      "area of square: 4\n"
     ]
    }
   ],
   "source": [
    "class shape:\n",
    "    def area(self):\n",
    "        print(0)\n",
    "class circle(shape):\n",
    "    def __init__(self,r):\n",
    "        self.r=r\n",
    "    def area(self):\n",
    "        print(\"area of circle:\",3.14*(self.r**2))\n",
    "class Square(shape):\n",
    "    def __init__(self,a):\n",
    "        self.a=a\n",
    "    def area(self):\n",
    "        print(\"area of square:\",self.a**2)\n",
    "c=circle(4)\n",
    "c.area()\n",
    "s=Square(2)\n",
    "s.area()\n",
    "        "
   ]
  },
  {
   "cell_type": "markdown",
   "metadata": {},
   "source": [
    "### Exercise 3: Polymorphism\n",
    "\n",
    "**Question 3:** Create a Python program that demonstrates polymorphism using a base class `Animal` and three derived classes `Dog`, `Cat`, and `Duck`. Implement the `speak` method in each derived class to return a specific sound. Finally, use a function to make each animal speak, showcasing polymorphism.\n",
    "\n",
    "<!-- <hr __here__>\n",
    "\n",
    "<!-- \n",
    "**Solution:**\n",
    "```python\n",
    "class Animal:\n",
    "    def speak(self):\n",
    "        pass\n",
    "\n",
    "class Dog(Animal):\n",
    "    def speak(self):\n",
    "        return \"Woof!\"\n",
    "\n",
    "class Cat(Animal):\n",
    "    def speak(self):\n",
    "        return \"Meow!\"\n",
    "\n",
    "class Duck(Animal):\n",
    "    def speak(self):\n",
    "        return \"Quack!\"\n",
    "\n",
    "# Function to make animals speak\n",
    "def make_animal_speak(animal):\n",
    "    return animal.speak()\n",
    "\n",
    "# Create instances of Dog, Cat, and Duck\n",
    "dog = Dog()\n",
    "cat = Cat()\n",
    "duck = Duck()\n",
    "\n",
    "# Use the make_animal_speak function with different animals\n",
    "dog_speak = make_animal_speak(dog)\n",
    "cat_speak = make_animal_speak(cat)\n",
    "duck_speak = make_animal_speak(duck)\n",
    "\n",
    "# Display the results\n",
    "print(\"Dog says:\", dog_speak)    # Expected output: Dog says: Woof!\n",
    "print(\"Cat says:\", cat_speak)    # Expected output: Cat says: Meow!\n",
    "print(\"Duck says:\", duck_speak)  # Expected output: Duck says: Quack!\n",
    "``` -->"
   ]
  },
  {
   "cell_type": "code",
   "execution_count": 22,
   "metadata": {},
   "outputs": [
    {
     "name": "stdout",
     "output_type": "stream",
     "text": [
      "Dog says: Woof!\n",
      "Cat says: Meow!\n",
      "Duck says: Quack!\n"
     ]
    }
   ],
   "source": [
    "\n",
    "class Animal:\n",
    "    def speak(self):\n",
    "        pass\n",
    "\n",
    "class Dog(Animal):\n",
    "    def speak(self):\n",
    "        return \"Woof!\"\n",
    "\n",
    "class Cat(Animal):\n",
    "    def speak(self):\n",
    "        return \"Meow!\"\n",
    "\n",
    "class Duck(Animal):\n",
    "    def speak(self):\n",
    "        return \"Quack!\"\n",
    "\n",
    "# Function to make animals speak\n",
    "def make_animal_speak(animal):\n",
    "    return animal.speak()\n",
    "\n",
    "# Create instances of Dog, Cat, and Duck\n",
    "dog = Dog()\n",
    "cat = Cat()\n",
    "duck = Duck()\n",
    "\n",
    "# Use the make_animal_speak function with different animals\n",
    "dog_speak = make_animal_speak(dog)\n",
    "cat_speak = make_animal_speak(cat)\n",
    "duck_speak = make_animal_speak(duck)\n",
    "\n",
    "# Display the results\n",
    "print(\"Dog says:\", dog_speak)    # Expected output: Dog says: Woof!\n",
    "print(\"Cat says:\", cat_speak)    # Expected output: Cat says: Meow!\n",
    "print(\"Duck says:\", duck_speak)  # Expected output: Duck says: Quack!\n"
   ]
  },
  {
   "cell_type": "code",
   "execution_count": null,
   "metadata": {},
   "outputs": [],
   "source": []
  }
 ],
 "metadata": {
  "kernelspec": {
   "display_name": "Python 3",
   "language": "python",
   "name": "python3"
  },
  "language_info": {
   "codemirror_mode": {
    "name": "ipython",
    "version": 3
   },
   "file_extension": ".py",
   "mimetype": "text/x-python",
   "name": "python",
   "nbconvert_exporter": "python",
   "pygments_lexer": "ipython3",
   "version": "3.8.5"
  }
 },
 "nbformat": 4,
 "nbformat_minor": 5
}
