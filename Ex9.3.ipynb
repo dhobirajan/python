{
 "cells": [
  {
   "cell_type": "markdown",
   "metadata": {},
   "source": [
    "<h1 style=\"background-color: cyan; box-shadow: 0 4px 8px 0 rgba(0, 0, 0, 0.2), 0 6px 20px 0 rgba(0, 0, 0, 0.19); text-align: center;\">Method Resolution Order in Python</h1>"
   ]
  },
  {
   "cell_type": "markdown",
   "metadata": {},
   "source": [
    "### Exercise 1 : Write MRO for A,B,C,D\n",
    "```PYTHON\n",
    "class A:\n",
    "  def method(self):\n",
    "    print(\"A.method() called\")\n",
    "\n",
    "class B:\n",
    "  def method(self):\n",
    "    print(\"B.method() called\")\n",
    "\n",
    "class C(A, B):\n",
    "  pass\n",
    "\n",
    "class D(C, B):\n",
    "  pass\n",
    "\n",
    "```"
   ]
  },
  {
   "cell_type": "code",
   "execution_count": 5,
   "metadata": {},
   "outputs": [
    {
     "name": "stdout",
     "output_type": "stream",
     "text": [
      "[<class '__main__.A'>, <class 'object'>]\n",
      "[<class '__main__.B'>, <class 'object'>]\n",
      "[<class '__main__.C'>, <class '__main__.B'>, <class '__main__.A'>, <class 'object'>]\n",
      "[<class '__main__.D'>, <class '__main__.C'>, <class '__main__.B'>, <class '__main__.A'>, <class 'object'>]\n"
     ]
    }
   ],
   "source": [
    "class A:\n",
    "  def method(self):\n",
    "    print(\"A.method() called\")\n",
    "\n",
    "class B:\n",
    "  def method(self):\n",
    "    print(\"B.method() called\")\n",
    "\n",
    "class C(A, B):\n",
    "  pass\n",
    "\n",
    "class D(C, B):\n",
    "  pass\n",
    "print(A.mro())\n",
    "print(B.mro())\n",
    "print(C.mro())\n",
    "print(D.mro())"
   ]
  },
  {
   "cell_type": "markdown",
   "metadata": {},
   "source": [
    "### Exercise 2 : Write MRO for A,B,C,D\n",
    "```PYTHON\n",
    "class A:\n",
    "   def m1(self):\n",
    "       print(\"m1 from A\")\n",
    "class B(A):\n",
    "   def m1(self):\n",
    "       print(\"m1 from B\")\n",
    "class C(A):\n",
    "   def m1(self):\n",
    "       print(\"m1 from C\")\n",
    "class D(B, C):\n",
    "   def m1(self):\n",
    "       print(\"m1 from D\")\n",
    "\n",
    "```"
   ]
  },
  {
   "cell_type": "code",
   "execution_count": 7,
   "metadata": {},
   "outputs": [
    {
     "name": "stdout",
     "output_type": "stream",
     "text": [
      "[<class '__main__.A'>, <class 'object'>]\n",
      "[<class '__main__.B'>, <class 'object'>]\n",
      "[<class '__main__.C'>, <class '__main__.B'>, <class '__main__.A'>, <class 'object'>]\n",
      "[<class '__main__.D'>, <class '__main__.C'>, <class '__main__.B'>, <class '__main__.A'>, <class 'object'>]\n"
     ]
    }
   ],
   "source": [
    "print(A.mro())\n",
    "print(B.mro())\n",
    "print(C.mro())\n",
    "print(D.mro())"
   ]
  },
  {
   "cell_type": "markdown",
   "metadata": {},
   "source": [
    "### Exercise 3 : Write MRO for A,B,C,X,Y,P\n",
    "```PYTHON\n",
    "class A:\n",
    "   def m1(self):\n",
    "       print(\"m1 from A\")\n",
    "class B:\n",
    "   def m1(self):\n",
    "       print(\"m1 from B\")\n",
    "class C:\n",
    "   def m1(self):\n",
    "       print(\"m1 from C\")\n",
    "class X(A, B):\n",
    "   def m1(self):\n",
    "       print(\"m1 from C\")\n",
    "class Y(B, C):\n",
    "   def m1(self):\n",
    "       print(\"m1 from A\")\n",
    "class P(X, Y, C):\n",
    "   def m1(self):\n",
    "       print(\"m1 from P\")\n",
    "```"
   ]
  },
  {
   "cell_type": "code",
   "execution_count": null,
   "metadata": {},
   "outputs": [],
   "source": []
  }
 ],
 "metadata": {
  "kernelspec": {
   "display_name": "Python 3",
   "language": "python",
   "name": "python3"
  },
  "language_info": {
   "codemirror_mode": {
    "name": "ipython",
    "version": 3
   },
   "file_extension": ".py",
   "mimetype": "text/x-python",
   "name": "python",
   "nbconvert_exporter": "python",
   "pygments_lexer": "ipython3",
   "version": "3.8.5"
  }
 },
 "nbformat": 4,
 "nbformat_minor": 5
}
