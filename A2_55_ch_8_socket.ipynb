{
 "cells": [
  {
   "cell_type": "code",
   "execution_count": null,
   "metadata": {},
   "outputs": [],
   "source": [
    "\n",
    "import socket"
   ]
  },
  {
   "cell_type": "markdown",
   "metadata": {},
   "source": [
    "# SOCKET..............(connect one user to another user)"
   ]
  },
  {
   "cell_type": "code",
   "execution_count": null,
   "metadata": {},
   "outputs": [],
   "source": [
    "h=socket.gethostname()\n",
    "print(h)"
   ]
  },
  {
   "cell_type": "code",
   "execution_count": null,
   "metadata": {},
   "outputs": [],
   "source": [
    "# pritn IP adress\n",
    "print(socket.gethostbyname(h))"
   ]
  },
  {
   "cell_type": "markdown",
   "metadata": {},
   "source": [
    "# TCP connection"
   ]
  },
  {
   "cell_type": "code",
   "execution_count": null,
   "metadata": {
    "scrolled": true
   },
   "outputs": [],
   "source": [
    "%%writefile sever1_tcp.py\n",
    "\n",
    "import socket\n",
    "host=socket.gethostname()\n",
    "port=2000\n",
    "Addr=(host,port)\n",
    "server_socket=socket.socket()\n",
    "server_socket.bind(Addr)\n",
    "server_socket.listen()\n",
    "conn,addr=server_socket.accept()\n",
    "print('connection from',str(addr))#data of client \n",
    "while True:\n",
    "    data=conn.recv(1024).decode()\n",
    "    if not data:\n",
    "        break\n",
    "    print(data)\n",
    "    data=input('-->')\n",
    "    conn.send(data.encode())\n",
    "conn.close()    "
   ]
  },
  {
   "cell_type": "code",
   "execution_count": null,
   "metadata": {},
   "outputs": [],
   "source": []
  },
  {
   "cell_type": "code",
   "execution_count": null,
   "metadata": {},
   "outputs": [],
   "source": [
    "%%writefile client_tcp.py\n",
    "import socket\n",
    "host=socket.gethostname()\n",
    "port=2000\n",
    "Addr=(host,port)\n",
    "client_socket=socket.socket()\n",
    "client_socket.connect(Addr)\n",
    "msg=int(input('-->'))\n",
    "while msg!=nan:\n",
    "    client_socket.send(msg.encode())\n",
    "    data=client_socket.recv(1024).decode()\n",
    "    print('recive from server:',data*data)\n",
    "    msg=input('-->')\n",
    "client_socket.close()    "
   ]
  },
  {
   "cell_type": "markdown",
   "metadata": {},
   "source": [
    "# UDP server client connection"
   ]
  },
  {
   "cell_type": "code",
   "execution_count": null,
   "metadata": {},
   "outputs": [],
   "source": [
    "\n",
    "%%writefile udp_server.py\n",
    "import socket\n",
    "host=\"\"\n",
    "port=5000\n",
    "udp_server=socket.socket(type=socket.SOCK_DGRAM)\n",
    "udp_server.bind((host,port))\n",
    "while True:\n",
    "    print('waiting for message')\n",
    "    data,addr=udp_server.recvfrom(1024)\n",
    "    print('Recieved',data.decode(),'from',addr)\n",
    "    msg=input('Enter msg:')\n",
    "    udp_server.sendto(msg.encode(),addr)\n",
    "udp_server.close()    \n"
   ]
  },
  {
   "cell_type": "code",
   "execution_count": null,
   "metadata": {},
   "outputs": [],
   "source": [
    "%%writefile udp_client.py\n",
    "import socket\n",
    "host=\"localhost\" #ip address if laptop to PC other wise hostname or ipadress\n",
    "port=5000\n",
    "udp_client=socket.socket(type=socket.SOCK_DGRAM)\n",
    "\n",
    "while True:\n",
    "    data=input('Enter msg to send: ')\n",
    "    if not data:\n",
    "        break\n",
    "    udp_client.sendto(data.encode(),(host,port))\n",
    "    print('Ready to receive')\n",
    "    data,addr=udp_client.recvfrom(1024)\n",
    "    if not data:\n",
    "        break\n",
    "    print(\"received: \",data.decode())\n",
    "udp_client.close()    "
   ]
  },
  {
   "cell_type": "code",
   "execution_count": null,
   "metadata": {},
   "outputs": [],
   "source": [
    "# for ip adress in cmd ip config"
   ]
  },
  {
   "cell_type": "markdown",
   "metadata": {},
   "source": [
    "#program for web networking"
   ]
  },
  {
   "cell_type": "code",
   "execution_count": null,
   "metadata": {},
   "outputs": [],
   "source": [
    "import socket\n",
    "mysock=socket.socket()\n",
    "mysock.connect(('www.gtu.ac.in',80))\n",
    "cmd='GET https://www.gtu.ac.in/Circular_Acedemic.aspx HTTP/1.0\\n\\n'.encode()\n",
    "mysock.send(cmd)\n",
    "while True:\n",
    "    data=mysock.recv(1024)\n",
    "    if len(data)<1:\n",
    "        break\n",
    "    print(data.decode(),end=\" \")\n",
    "mysock.close()    \n",
    "# go to google colab and go in file and paste this code"
   ]
  },
  {
   "cell_type": "markdown",
   "metadata": {},
   "source": [
    "# Program for HTTP server"
   ]
  },
  {
   "cell_type": "code",
   "execution_count": null,
   "metadata": {},
   "outputs": [],
   "source": [
    "from socket import *\n",
    "def createserver():\n",
    "    serversocket=socket()\n",
    "    serversocket.bind(('localhost',9050))\n",
    "    serversocket.listen()\n",
    "    while(1):\n",
    "        (clientsocket,address)=serversocket.accept()\n",
    "        rd=clientsocket.recv(5000).decode()\n",
    "        print(rd)\n",
    "        data=\"\"\"HTTP/1.1 200 ok\\nContent-Type:text/html;charset=utf-8\\n\\n<html>\n",
    "        <body><h1> hello world!</h1></body></html>\\n\\n\"\"\"\n",
    "        clientsocket.send(data.encode())\n",
    "    serversocket.close()\n",
    "print('Access http://localhost:9050')\n",
    "createserver()"
   ]
  },
  {
   "cell_type": "markdown",
   "metadata": {},
   "source": [
    "# API"
   ]
  },
  {
   "cell_type": "code",
   "execution_count": 3,
   "metadata": {},
   "outputs": [
    {
     "name": "stdout",
     "output_type": "stream",
     "text": [
      "Enter city nameAhmedabad\n",
      "[{'name': 'Ahmedabad', 'local_names': {'de': 'Ahmedabad', 'or': 'ଅହମଦାବାଦ', 'oc': 'Ahmadabad', 'ta': 'அகமதாபாத்', 'ur': 'احمد آباد', 'ml': 'അഹമ്മദാബാദ്', 'en': 'Ahmedabad', 'zh': '艾哈迈达巴德', 'hi': 'अहमदाबाद', 'uk': 'Ахмедабад', 'pl': 'Ahmadabad', 'ascii': 'Ahmedabad', 'gu': 'અમદાવાદ', 'feature_name': 'Ahmedabad', 'pa': 'ਅਹਿਮਦਾਬਾਦ', 'ar': 'أحمد آباد', 'cs': 'Ahmadábád', 'ja': 'アフマダーバード', 'te': 'అహ్మదాబాద్', 'kn': 'ಅಹ್ಮದಾಬಾದ್', 'ru': 'Ахмадабад', 'mr': 'अहमदाबाद', 'eo': 'Ahmadabado', 'he': 'אחמדאבאד'}, 'lat': 23.0216238, 'lon': 72.5797068, 'country': 'IN', 'state': 'Gujarat'}]\n"
     ]
    },
    {
     "ename": "KeyError",
     "evalue": "'\\x07t'",
     "output_type": "error",
     "traceback": [
      "\u001b[1;31m---------------------------------------------------------------------------\u001b[0m",
      "\u001b[1;31mKeyError\u001b[0m                                  Traceback (most recent call last)",
      "\u001b[1;32m<ipython-input-3-5ffe491f4376>\u001b[0m in \u001b[0;36m<module>\u001b[1;34m\u001b[0m\n\u001b[0;32m      6\u001b[0m \u001b[0mcoordinates\u001b[0m\u001b[1;33m=\u001b[0m\u001b[0mresponse\u001b[0m\u001b[1;33m.\u001b[0m\u001b[0mjson\u001b[0m\u001b[1;33m(\u001b[0m\u001b[1;33m)\u001b[0m\u001b[1;33m\u001b[0m\u001b[1;33m\u001b[0m\u001b[0m\n\u001b[0;32m      7\u001b[0m \u001b[0mprint\u001b[0m\u001b[1;33m(\u001b[0m\u001b[0mcoordinates\u001b[0m\u001b[1;33m)\u001b[0m\u001b[1;33m\u001b[0m\u001b[1;33m\u001b[0m\u001b[0m\n\u001b[1;32m----> 8\u001b[1;33m \u001b[0mlatitude\u001b[0m\u001b[1;33m=\u001b[0m\u001b[0mcoordinates\u001b[0m\u001b[1;33m[\u001b[0m\u001b[1;36m0\u001b[0m\u001b[1;33m]\u001b[0m\u001b[1;33m[\u001b[0m\u001b[1;34m'\\at'\u001b[0m\u001b[1;33m]\u001b[0m\u001b[1;33m\u001b[0m\u001b[1;33m\u001b[0m\u001b[0m\n\u001b[0m\u001b[0;32m      9\u001b[0m \u001b[0mlongitude\u001b[0m\u001b[1;33m=\u001b[0m\u001b[0mcoordinates\u001b[0m\u001b[1;33m[\u001b[0m\u001b[1;36m0\u001b[0m\u001b[1;33m]\u001b[0m\u001b[1;33m[\u001b[0m\u001b[1;34m'\\on'\u001b[0m\u001b[1;33m]\u001b[0m\u001b[1;33m\u001b[0m\u001b[1;33m\u001b[0m\u001b[0m\n\u001b[0;32m     10\u001b[0m \u001b[0mprint\u001b[0m\u001b[1;33m(\u001b[0m\u001b[1;34m'latitude='\u001b[0m\u001b[1;33m,\u001b[0m\u001b[0mlatitude\u001b[0m\u001b[1;33m)\u001b[0m\u001b[1;33m\u001b[0m\u001b[1;33m\u001b[0m\u001b[0m\n",
      "\u001b[1;31mKeyError\u001b[0m: '\\x07t'"
     ]
    }
   ],
   "source": [
    "import requests,json\n",
    "city=input('Enter city name')\n",
    "api_key='daf19503da075ef0e0811b4f393de3b4'\n",
    "url=\"http://api.openweathermap.org/geo/1.0/direct?q=\"+city+'&appid='+api_key\n",
    "response=requests.get(url)\n",
    "coordinates=response.json()\n",
    "print(coordinates)\n",
    "latitude=coordinates[0]['\\at']\n",
    "longitude=coordinates[0]['/on']\n",
    "print('latitude=',latitude)\n",
    "print('longitude',longitude)"
   ]
  },
  {
   "cell_type": "code",
   "execution_count": null,
   "metadata": {},
   "outputs": [],
   "source": []
  },
  {
   "cell_type": "code",
   "execution_count": null,
   "metadata": {},
   "outputs": [],
   "source": []
  }
 ],
 "metadata": {
  "kernelspec": {
   "display_name": "Python 3",
   "language": "python",
   "name": "python3"
  }
 },
 "nbformat": 4,
 "nbformat_minor": 4
}
