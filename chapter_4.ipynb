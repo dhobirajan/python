{
 "cells": [
  {
   "cell_type": "code",
   "execution_count": 4,
   "id": "0e9c7f89",
   "metadata": {},
   "outputs": [
    {
     "name": "stdout",
     "output_type": "stream",
     "text": [
      "n\n",
      "o\n"
     ]
    }
   ],
   "source": [
    "s='python'\n",
    "s[5]\n",
    "print(s[-1])\n",
    "print(s[-2])"
   ]
  },
  {
   "cell_type": "code",
   "execution_count": 16,
   "id": "4f535bd0",
   "metadata": {},
   "outputs": [
    {
     "data": {
      "text/plain": [
       "''"
      ]
     },
     "execution_count": 16,
     "metadata": {},
     "output_type": "execute_result"
    }
   ],
   "source": [
    "#slicing   :[start:stop:step]\n",
    "s=\"hello word\"\n",
    "(s[0:6])\n",
    "s[2:3]\n",
    "s[2:]\n",
    "s[:-1]\n",
    "s[:]\n",
    "s[0:7]\n",
    "s[2:-1]\n",
    "s[:-2]\n",
    "s[1:-1]\n",
    "s[-1:-5]\n"
   ]
  },
  {
   "cell_type": "code",
   "execution_count": 26,
   "id": "724a1ce0",
   "metadata": {},
   "outputs": [
    {
     "data": {
      "text/plain": [
       "' world'"
      ]
     },
     "execution_count": 26,
     "metadata": {},
     "output_type": "execute_result"
    }
   ],
   "source": [
    "s=\"hello world\"\n",
    "s[0:6:2]\n",
    "s[2:4:2]\n",
    "s[2::-1]\n",
    "s[:-1:3]\n",
    "s[::2]\n",
    "s[0:7:3]\n",
    "s[:-1:2]\n",
    "s[1:-1:3]\n",
    "s[::-1] # for revers the string\n",
    "s[5::]"
   ]
  },
  {
   "cell_type": "code",
   "execution_count": 27,
   "id": "724b8b0a",
   "metadata": {},
   "outputs": [
    {
     "data": {
      "text/plain": [
       "['__add__',\n",
       " '__class__',\n",
       " '__contains__',\n",
       " '__delattr__',\n",
       " '__dir__',\n",
       " '__doc__',\n",
       " '__eq__',\n",
       " '__format__',\n",
       " '__ge__',\n",
       " '__getattribute__',\n",
       " '__getitem__',\n",
       " '__getnewargs__',\n",
       " '__getstate__',\n",
       " '__gt__',\n",
       " '__hash__',\n",
       " '__init__',\n",
       " '__init_subclass__',\n",
       " '__iter__',\n",
       " '__le__',\n",
       " '__len__',\n",
       " '__lt__',\n",
       " '__mod__',\n",
       " '__mul__',\n",
       " '__ne__',\n",
       " '__new__',\n",
       " '__reduce__',\n",
       " '__reduce_ex__',\n",
       " '__repr__',\n",
       " '__rmod__',\n",
       " '__rmul__',\n",
       " '__setattr__',\n",
       " '__sizeof__',\n",
       " '__str__',\n",
       " '__subclasshook__',\n",
       " 'capitalize',\n",
       " 'casefold',\n",
       " 'center',\n",
       " 'count',\n",
       " 'encode',\n",
       " 'endswith',\n",
       " 'expandtabs',\n",
       " 'find',\n",
       " 'format',\n",
       " 'format_map',\n",
       " 'index',\n",
       " 'isalnum',\n",
       " 'isalpha',\n",
       " 'isascii',\n",
       " 'isdecimal',\n",
       " 'isdigit',\n",
       " 'isidentifier',\n",
       " 'islower',\n",
       " 'isnumeric',\n",
       " 'isprintable',\n",
       " 'isspace',\n",
       " 'istitle',\n",
       " 'isupper',\n",
       " 'join',\n",
       " 'ljust',\n",
       " 'lower',\n",
       " 'lstrip',\n",
       " 'maketrans',\n",
       " 'partition',\n",
       " 'removeprefix',\n",
       " 'removesuffix',\n",
       " 'replace',\n",
       " 'rfind',\n",
       " 'rindex',\n",
       " 'rjust',\n",
       " 'rpartition',\n",
       " 'rsplit',\n",
       " 'rstrip',\n",
       " 'split',\n",
       " 'splitlines',\n",
       " 'startswith',\n",
       " 'strip',\n",
       " 'swapcase',\n",
       " 'title',\n",
       " 'translate',\n",
       " 'upper',\n",
       " 'zfill']"
      ]
     },
     "execution_count": 27,
     "metadata": {},
     "output_type": "execute_result"
    }
   ],
   "source": [
    "s='python'\n",
    "dir(s)"
   ]
  },
  {
   "cell_type": "code",
   "execution_count": 28,
   "id": "6c89011a",
   "metadata": {},
   "outputs": [
    {
     "ename": "SyntaxError",
     "evalue": "invalid syntax (406916036.py, line 1)",
     "output_type": "error",
     "traceback": [
      "\u001b[1;36m  Cell \u001b[1;32mIn[28], line 1\u001b[1;36m\u001b[0m\n\u001b[1;33m    s.\u001b[0m\n\u001b[1;37m      ^\u001b[0m\n\u001b[1;31mSyntaxError\u001b[0m\u001b[1;31m:\u001b[0m invalid syntax\n"
     ]
    }
   ],
   "source": [
    "s.\n",
    "# presh tab after .\n"
   ]
  },
  {
   "cell_type": "code",
   "execution_count": 30,
   "id": "96551cba",
   "metadata": {},
   "outputs": [
    {
     "data": {
      "text/plain": [
       "5"
      ]
     },
     "execution_count": 30,
     "metadata": {},
     "output_type": "execute_result"
    }
   ],
   "source": [
    "len('hi hi')"
   ]
  },
  {
   "cell_type": "code",
   "execution_count": 31,
   "id": "a28eba57",
   "metadata": {},
   "outputs": [
    {
     "data": {
      "text/plain": [
       "7"
      ]
     },
     "execution_count": 31,
     "metadata": {},
     "output_type": "execute_result"
    }
   ],
   "source": [
    "len('\\n\\nrajan')"
   ]
  },
  {
   "cell_type": "code",
   "execution_count": 32,
   "id": "649acfea",
   "metadata": {},
   "outputs": [
    {
     "name": "stdout",
     "output_type": "stream",
     "text": [
      " the index is 0 and value is p\n",
      " the index is 1 and value is y\n",
      " the index is 2 and value is t\n",
      " the index is 3 and value is h\n",
      " the index is 4 and value is o\n",
      " the index is 5 and value is n\n"
     ]
    }
   ],
   "source": [
    "s='python'\n",
    "for index,value in enumerate(s):\n",
    "    print(f' the index is {index} and value is {value}')"
   ]
  },
  {
   "cell_type": "code",
   "execution_count": 39,
   "id": "aab949d8",
   "metadata": {},
   "outputs": [
    {
     "data": {
      "text/plain": [
       "4"
      ]
     },
     "execution_count": 39,
     "metadata": {},
     "output_type": "execute_result"
    }
   ],
   "source": [
    "# count method\n",
    "s='python is a programming language'\n",
    "#help(s.count)\n",
    "s.count('a')\n",
    "s.count('a',6,30)"
   ]
  },
  {
   "cell_type": "code",
   "execution_count": 42,
   "id": "cae500d1",
   "metadata": {},
   "outputs": [
    {
     "data": {
      "text/plain": [
       "20"
      ]
     },
     "execution_count": 42,
     "metadata": {},
     "output_type": "execute_result"
    }
   ],
   "source": [
    "#find method\n",
    "s='python is a programming language'\n",
    "#help(s.find)\n",
    "s.find('i',14)"
   ]
  },
  {
   "cell_type": "code",
   "execution_count": 44,
   "id": "552068c5",
   "metadata": {},
   "outputs": [
    {
     "name": "stdout",
     "output_type": "stream",
     "text": [
      "Help on built-in function index:\n",
      "\n",
      "index(...) method of builtins.str instance\n",
      "    S.index(sub[, start[, end]]) -> int\n",
      "    \n",
      "    Return the lowest index in S where substring sub is found,\n",
      "    such that sub is contained within S[start:end].  Optional\n",
      "    arguments start and end are interpreted as in slice notation.\n",
      "    \n",
      "    Raises ValueError when the substring is not found.\n",
      "\n"
     ]
    }
   ],
   "source": [
    "#index method\n",
    "s='python is a programming language'\n",
    "help(s.index)"
   ]
  },
  {
   "cell_type": "code",
   "execution_count": 47,
   "id": "bb172e65",
   "metadata": {},
   "outputs": [
    {
     "data": {
      "text/plain": [
       "'python is d progrdmming language'"
      ]
     },
     "execution_count": 47,
     "metadata": {},
     "output_type": "execute_result"
    }
   ],
   "source": [
    "#replace method\n",
    "s='python is a programming language'\n",
    "#help(s.replace)\n",
    "s.replace('a','d',2)"
   ]
  },
  {
   "cell_type": "code",
   "execution_count": 50,
   "id": "9da9f432",
   "metadata": {},
   "outputs": [
    {
     "data": {
      "text/plain": [
       "['python', 'is', 'a', 'programming', 'language']"
      ]
     },
     "execution_count": 50,
     "metadata": {},
     "output_type": "execute_result"
    }
   ],
   "source": [
    "#split method\n",
    "s='python is a programming language'\n",
    "s.split('o')\n",
    "s.split()"
   ]
  },
  {
   "cell_type": "code",
   "execution_count": 51,
   "id": "57d9d370",
   "metadata": {},
   "outputs": [
    {
     "name": "stdout",
     "output_type": "stream",
     "text": [
      "Help on built-in function join:\n",
      "\n",
      "join(iterable, /) method of builtins.str instance\n",
      "    Concatenate any number of strings.\n",
      "    \n",
      "    The string whose method is called is inserted in between each given string.\n",
      "    The result is returned as a new string.\n",
      "    \n",
      "    Example: '.'.join(['ab', 'pq', 'rs']) -> 'ab.pq.rs'\n",
      "\n"
     ]
    }
   ],
   "source": [
    "#join method\n",
    "s='python is a programming language'\n",
    "help(s.join)"
   ]
  },
  {
   "cell_type": "code",
   "execution_count": 1,
   "id": "55d132e6",
   "metadata": {},
   "outputs": [
    {
     "name": "stdout",
     "output_type": "stream",
     "text": [
      "th3s 3s 1 str3ng f5nct34n\n"
     ]
    }
   ],
   "source": [
    "#translate\n",
    "intab='aeiou'\n",
    "outtab='12345'\n",
    "my='this is a string function'\n",
    "table=my.maketrans(intab,outtab)\n",
    "print(my.translate(table))"
   ]
  },
  {
   "cell_type": "code",
   "execution_count": 2,
   "id": "397e22ac",
   "metadata": {},
   "outputs": [
    {
     "name": "stdout",
     "output_type": "stream",
     "text": [
      " hi whatt is h like\n"
     ]
    }
   ],
   "source": [
    "#panctuation (all types of symbol and peranthasis)\n",
    "import string\n",
    "a_string='! hi $what?t is [h] like?'\n",
    "new_string=a_string.translate(str.maketrans(\" \",\" \",string.punctuation))\n",
    "print(new_string)\n"
   ]
  },
  {
   "cell_type": "code",
   "execution_count": 3,
   "id": "a4a45c6f",
   "metadata": {},
   "outputs": [
    {
     "data": {
      "text/plain": [
       "tuple"
      ]
     },
     "execution_count": 3,
     "metadata": {},
     "output_type": "execute_result"
    }
   ],
   "source": [
    "#....................TUPLE........................\n",
    "#create tuple\n",
    "x=()\n",
    "type(x)"
   ]
  },
  {
   "cell_type": "code",
   "execution_count": 8,
   "id": "854a9223",
   "metadata": {},
   "outputs": [
    {
     "name": "stdout",
     "output_type": "stream",
     "text": [
      "(1, 2, 3)\n",
      "<class 'tuple'>\n",
      "(1, 2, 3)\n",
      "(3, 4, 5)\n"
     ]
    }
   ],
   "source": [
    "x=1,2,3\n",
    "print(x)\n",
    "print(type(x))\n",
    "y=x\n",
    "x=(3,4,5)\n",
    "print(y)"
   ]
  },
  {
   "cell_type": "code",
   "execution_count": 11,
   "id": "7a6a32f7",
   "metadata": {},
   "outputs": [
    {
     "data": {
      "text/plain": [
       "tuple"
      ]
     },
     "execution_count": 11,
     "metadata": {},
     "output_type": "execute_result"
    }
   ],
   "source": [
    "x=(6)\n",
    "type(x)\n",
    "y=(6,)\n",
    "type(y)"
   ]
  },
  {
   "cell_type": "code",
   "execution_count": 13,
   "id": "383a455e",
   "metadata": {},
   "outputs": [
    {
     "name": "stdout",
     "output_type": "stream",
     "text": [
      "2\n",
      "3\n"
     ]
    }
   ],
   "source": [
    "# acsess of tuple\n",
    "x=(1,2,3)\n",
    "print(x[1])\n",
    "print(x[-1])"
   ]
  },
  {
   "cell_type": "code",
   "execution_count": 18,
   "id": "203e66c4",
   "metadata": {},
   "outputs": [
    {
     "name": "stdout",
     "output_type": "stream",
     "text": [
      "2\n",
      "4\n",
      "r\n",
      "('hi rajan', [8, 100, 2], [1, 2, 3])\n"
     ]
    }
   ],
   "source": [
    "x=('hi rajan',[8,4,2],[1,2,3])\n",
    "print(x[2][1])\n",
    "print(x[1][1])\n",
    "print(x[0][3])\n",
    "x[1][1]=100\n",
    "print(x)"
   ]
  },
  {
   "cell_type": "code",
   "execution_count": 23,
   "id": "bbdf5736",
   "metadata": {},
   "outputs": [
    {
     "name": "stdout",
     "output_type": "stream",
     "text": [
      "3\n"
     ]
    }
   ],
   "source": [
    "# method of tuple \n",
    "#(1) index();\n",
    "x=(1,2,3,4,3,5,6,7,8,9)# if same then return first index\n",
    "#help(x.index)\n",
    "print(x.index(4,2,9))"
   ]
  },
  {
   "cell_type": "code",
   "execution_count": 3,
   "id": "0fc33984",
   "metadata": {},
   "outputs": [
    {
     "name": "stdout",
     "output_type": "stream",
     "text": [
      "2\n",
      "0\n"
     ]
    }
   ],
   "source": [
    "#(2) count()\n",
    "x=(1,2,3,3,3,3,4,5,6,7,4)\n",
    "#help(x.count)\n",
    "print(x.count(4))\n",
    "print(x.count(11))"
   ]
  },
  {
   "cell_type": "code",
   "execution_count": 4,
   "id": "257e2632",
   "metadata": {},
   "outputs": [
    {
     "name": "stdout",
     "output_type": "stream",
     "text": [
      "(1, 2, 3, 4, 5, 6)\n"
     ]
    }
   ],
   "source": [
    "# concate tuple\n",
    "x=(1,2,3)\n",
    "y=(4,5,6)\n",
    "print(x+y)"
   ]
  },
  {
   "cell_type": "code",
   "execution_count": 9,
   "id": "841ba1c9",
   "metadata": {},
   "outputs": [
    {
     "name": "stdout",
     "output_type": "stream",
     "text": [
      "5\n",
      "4\n"
     ]
    }
   ],
   "source": [
    "c=(1,2,3,[1,2,3],(1,2,3))\n",
    "print(len(c))\n",
    "t=(1,23,'hi rajam',[1,4,5])\n",
    "print(len(t))"
   ]
  },
  {
   "cell_type": "code",
   "execution_count": 18,
   "id": "b320a92c",
   "metadata": {},
   "outputs": [
    {
     "name": "stdout",
     "output_type": "stream",
     "text": [
      "6\n",
      "1\n"
     ]
    }
   ],
   "source": [
    "z=(1,2,3,5,6)\n",
    "print(max(z))\n",
    "print(min(z))"
   ]
  },
  {
   "cell_type": "code",
   "execution_count": 20,
   "id": "4f2df692",
   "metadata": {},
   "outputs": [
    {
     "name": "stdout",
     "output_type": "stream",
     "text": [
      "a\n",
      "49\n"
     ]
    }
   ],
   "source": [
    "print(chr(97))\n",
    "print(ord('1'))"
   ]
  },
  {
   "cell_type": "code",
   "execution_count": null,
   "id": "7915802a",
   "metadata": {},
   "outputs": [],
   "source": [
    "#comparision\n",
    "x=(1,2,3)\n",
    "y=(4,56,5)\n"
   ]
  }
 ],
 "metadata": {
  "kernelspec": {
   "display_name": "Python 3 (ipykernel)",
   "language": "python",
   "name": "python3"
  },
  "language_info": {
   "codemirror_mode": {
    "name": "ipython",
    "version": 3
   },
   "file_extension": ".py",
   "mimetype": "text/x-python",
   "name": "python",
   "nbconvert_exporter": "python",
   "pygments_lexer": "ipython3",
   "version": "3.11.5"
  }
 },
 "nbformat": 4,
 "nbformat_minor": 5
}
