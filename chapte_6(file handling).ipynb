{
 "cells": [
  {
   "cell_type": "code",
   "execution_count": 2,
   "id": "2d01603f",
   "metadata": {},
   "outputs": [
    {
     "name": "stdout",
     "output_type": "stream",
     "text": [
      "Overwriting hello.txt\n"
     ]
    }
   ],
   "source": [
    "%%writefile hello.txt\n",
    "hello world"
   ]
  },
  {
   "cell_type": "code",
   "execution_count": 2,
   "id": "53de16b2",
   "metadata": {},
   "outputs": [],
   "source": [
    "f=open(\"hello.txt\")\n",
    "f.read()\n",
    "f.close()"
   ]
  },
  {
   "cell_type": "code",
   "execution_count": 7,
   "id": "c0a57eeb",
   "metadata": {},
   "outputs": [
    {
     "ename": "FileNotFoundError",
     "evalue": "[Errno 2] No such file or directory: 'Desktop/rajan.txt'",
     "output_type": "error",
     "traceback": [
      "\u001b[1;31m---------------------------------------------------------------------------\u001b[0m",
      "\u001b[1;31mFileNotFoundError\u001b[0m                         Traceback (most recent call last)",
      "Cell \u001b[1;32mIn[7], line 2\u001b[0m\n\u001b[0;32m      1\u001b[0m \u001b[38;5;66;03m#open(D[tab] then after[tab] select path of file)\u001b[39;00m\n\u001b[1;32m----> 2\u001b[0m f\u001b[38;5;241m=\u001b[39m\u001b[38;5;28mopen\u001b[39m(\u001b[38;5;124m\"\u001b[39m\u001b[38;5;124mDesktop/rajan.txt\u001b[39m\u001b[38;5;124m\"\u001b[39m)\n\u001b[0;32m      3\u001b[0m f\u001b[38;5;241m.\u001b[39mread()\n",
      "File \u001b[1;32mC:\\ProgramData\\1anaconda3\\Lib\\site-packages\\IPython\\core\\interactiveshell.py:286\u001b[0m, in \u001b[0;36m_modified_open\u001b[1;34m(file, *args, **kwargs)\u001b[0m\n\u001b[0;32m    279\u001b[0m \u001b[38;5;28;01mif\u001b[39;00m file \u001b[38;5;129;01min\u001b[39;00m {\u001b[38;5;241m0\u001b[39m, \u001b[38;5;241m1\u001b[39m, \u001b[38;5;241m2\u001b[39m}:\n\u001b[0;32m    280\u001b[0m     \u001b[38;5;28;01mraise\u001b[39;00m \u001b[38;5;167;01mValueError\u001b[39;00m(\n\u001b[0;32m    281\u001b[0m         \u001b[38;5;124mf\u001b[39m\u001b[38;5;124m\"\u001b[39m\u001b[38;5;124mIPython won\u001b[39m\u001b[38;5;124m'\u001b[39m\u001b[38;5;124mt let you open fd=\u001b[39m\u001b[38;5;132;01m{\u001b[39;00mfile\u001b[38;5;132;01m}\u001b[39;00m\u001b[38;5;124m by default \u001b[39m\u001b[38;5;124m\"\u001b[39m\n\u001b[0;32m    282\u001b[0m         \u001b[38;5;124m\"\u001b[39m\u001b[38;5;124mas it is likely to crash IPython. If you know what you are doing, \u001b[39m\u001b[38;5;124m\"\u001b[39m\n\u001b[0;32m    283\u001b[0m         \u001b[38;5;124m\"\u001b[39m\u001b[38;5;124myou can use builtins\u001b[39m\u001b[38;5;124m'\u001b[39m\u001b[38;5;124m open.\u001b[39m\u001b[38;5;124m\"\u001b[39m\n\u001b[0;32m    284\u001b[0m     )\n\u001b[1;32m--> 286\u001b[0m \u001b[38;5;28;01mreturn\u001b[39;00m io_open(file, \u001b[38;5;241m*\u001b[39margs, \u001b[38;5;241m*\u001b[39m\u001b[38;5;241m*\u001b[39mkwargs)\n",
      "\u001b[1;31mFileNotFoundError\u001b[0m: [Errno 2] No such file or directory: 'Desktop/rajan.txt'"
     ]
    }
   ],
   "source": [
    "#open(D[tab] then after[tab] select path of file)\n",
    "f=open(\"D\")\n",
    "f.read()"
   ]
  },
  {
   "cell_type": "code",
   "execution_count": 3,
   "id": "a7a676ab",
   "metadata": {},
   "outputs": [],
   "source": [
    "f=open(\"raju.txt\",'w+')\n",
    "f.write(\"hi hello how\")\n",
    "f.close()"
   ]
  },
  {
   "cell_type": "code",
   "execution_count": 4,
   "id": "17a83a8e",
   "metadata": {},
   "outputs": [
    {
     "name": "stdout",
     "output_type": "stream",
     "text": [
      "False\n",
      "True\n"
     ]
    }
   ],
   "source": [
    "f=open(\"raju.txt\",'a')\n",
    "f.write(\"feufieif\")\n",
    "print(f.closed)#attribute\n",
    "f.close()\n",
    "print(f.closed)"
   ]
  },
  {
   "cell_type": "code",
   "execution_count": 21,
   "id": "cab3e282",
   "metadata": {},
   "outputs": [
    {
     "name": "stdout",
     "output_type": "stream",
     "text": [
      "w+\n",
      "sample.txt\n",
      "False\n",
      "True\n"
     ]
    }
   ],
   "source": [
    "f=open(\"sample.txt\",'w+')\n",
    "print(f.mode)\n",
    "print(f.name)\n",
    "print(f.closed)\n",
    "f.close()\n",
    "print(f.closed)"
   ]
  },
  {
   "cell_type": "code",
   "execution_count": 22,
   "id": "b7f75766",
   "metadata": {},
   "outputs": [],
   "source": [
    "#write()\n",
    "f=open(\"python.txt\",'w')\n",
    "f.write(\"welcome\")\n",
    "f.write(\"new\\n\")\n",
    "f.write(\"file\")\n",
    "f.close()"
   ]
  },
  {
   "cell_type": "code",
   "execution_count": 24,
   "id": "80c5edf5",
   "metadata": {},
   "outputs": [],
   "source": [
    "#writelines\n",
    "f=open(\"python_1.txt\",'w')\n",
    "f.writelines([\"hi\",\"hello\",\"pyhton\"])\n",
    "f.close()"
   ]
  },
  {
   "cell_type": "code",
   "execution_count": 2,
   "id": "e5b23971",
   "metadata": {},
   "outputs": [
    {
     "name": "stdout",
     "output_type": "stream",
     "text": [
      "welcomenew\n",
      "file\n"
     ]
    }
   ],
   "source": [
    "#read()\n",
    "f=open(\"python.txt\")\n",
    "print(f.read())\n",
    "f.close()"
   ]
  },
  {
   "cell_type": "code",
   "execution_count": 6,
   "id": "02817f77",
   "metadata": {},
   "outputs": [],
   "source": [
    "#readlinr()\n",
    "f=open(\"python.txt\")\n",
    "f.readline()\n",
    "f.readline()\n",
    "f.readline()\n",
    "f.close()"
   ]
  },
  {
   "cell_type": "code",
   "execution_count": 17,
   "id": "51b36f04",
   "metadata": {},
   "outputs": [],
   "source": [
    "f=open(\"python.txt\")\n",
    "f.readline(14)\n",
    "f.close()"
   ]
  },
  {
   "cell_type": "code",
   "execution_count": 1,
   "id": "683a4706",
   "metadata": {},
   "outputs": [
    {
     "data": {
      "text/plain": [
       "['welcomenew\\n', 'file']"
      ]
     },
     "execution_count": 1,
     "metadata": {},
     "output_type": "execute_result"
    }
   ],
   "source": [
    "f=open(\"python.txt\")\n",
    "f.readlines(12)"
   ]
  },
  {
   "cell_type": "code",
   "execution_count": 20,
   "id": "15391b98",
   "metadata": {},
   "outputs": [
    {
     "name": "stdout",
     "output_type": "stream",
     "text": [
      "0\n",
      "hi\n",
      "2\n",
      "\n",
      "h\n",
      "4\n",
      "el\n",
      "6\n",
      "lo\n",
      "8\n",
      " r\n",
      "10\n",
      "aj\n",
      "12\n"
     ]
    }
   ],
   "source": [
    "#tell(): return the current position of the pointer\n",
    "# in this space and \\n is considerd as 1 bit\n",
    "f=open(\"python.txt\")\n",
    "print(f.tell())\n",
    "print(f.read(2))\n",
    "print(f.tell())\n",
    "print(f.read(2))\n",
    "print(f.tell())\n",
    "print(f.read(2))\n",
    "print(f.tell())\n",
    "print(f.read(2))\n",
    "print(f.tell())\n",
    "print(f.read(2))\n",
    "print(f.tell())\n",
    "print(f.read(2))\n",
    "print(f.tell())"
   ]
  },
  {
   "cell_type": "code",
   "execution_count": 22,
   "id": "8db14103",
   "metadata": {},
   "outputs": [
    {
     "name": "stdout",
     "output_type": "stream",
     "text": [
      "Overwriting newfile_1.txt\n"
     ]
    }
   ],
   "source": [
    "%%writefile newfile_1.txt\n",
    "hello\n",
    "hi\n",
    "how are you\n",
    "i am fine"
   ]
  },
  {
   "cell_type": "code",
   "execution_count": 50,
   "id": "b24d3c74",
   "metadata": {},
   "outputs": [
    {
     "name": "stdout",
     "output_type": "stream",
     "text": [
      "27\n",
      "m fine\n",
      "\n"
     ]
    }
   ],
   "source": [
    "#seek(): set position of ofcet\n",
    "f=open(\"newfile_1.txt\")\n",
    "print(f.seek(27))# set cursor at 2 index\n",
    "print(f.read())\n",
    "f.close()"
   ]
  },
  {
   "cell_type": "code",
   "execution_count": 52,
   "id": "d73ddd5a",
   "metadata": {},
   "outputs": [
    {
     "name": "stdout",
     "output_type": "stream",
     "text": [
      "None\n"
     ]
    }
   ],
   "source": [
    "with open(\"newfile_1.txt\",'w')as f:\n",
    "    f.write(\"newfile\")\n",
    "print(f.close())    "
   ]
  },
  {
   "cell_type": "code",
   "execution_count": 56,
   "id": "f644e8fb",
   "metadata": {},
   "outputs": [
    {
     "name": "stdout",
     "output_type": "stream",
     "text": [
      "4\n",
      "True\n"
     ]
    }
   ],
   "source": [
    "with open(\"newfile_1.txt\")as f:\n",
    "    print(len(f.readlines()))\n",
    "print(f.closed)    "
   ]
  },
  {
   "cell_type": "code",
   "execution_count": 71,
   "id": "b4d11dae",
   "metadata": {},
   "outputs": [
    {
     "name": "stdout",
     "output_type": "stream",
     "text": [
      "word: 25\n",
      "space: 3\n",
      "line: 4\n"
     ]
    }
   ],
   "source": [
    "# count the char and word and space\n",
    "with open(\"newfile_1.txt\")as f:\n",
    "    count_char=0\n",
    "    space_c=0\n",
    "    sla=0\n",
    "    for i in f.readlines():\n",
    "        for j in i:\n",
    "            if j==' ':\n",
    "                space_c+=1\n",
    "                \n",
    "            elif j=='\\n':\n",
    "                sla+=1\n",
    "            else:\n",
    "                count_char+=1\n",
    "                \n",
    "print(\"word:\",count_char)\n",
    "print(\"space:\",space_c-1)\n",
    "print(\"line:\",sla+1)\n",
    "f.close()"
   ]
  },
  {
   "cell_type": "code",
   "execution_count": 1,
   "id": "a72d8aa2",
   "metadata": {},
   "outputs": [],
   "source": [
    "#519:write a pro to remove comment lines from a file\n",
    "f=open(\"newfile_1.txt\")\n",
    "new_file=open(\"pro_519.txt\",'a+')\n",
    "temp=0\n",
    "for line in f:\n",
    "    if line[0]=='#':\n",
    "        temp=1\n",
    "        continue\n",
    "    new_file.write(line)\n",
    "new_file.close()\n",
    "f.close()"
   ]
  },
  {
   "cell_type": "code",
   "execution_count": 75,
   "id": "2260de06",
   "metadata": {},
   "outputs": [
    {
     "name": "stdout",
     "output_type": "stream",
     "text": [
      "enter the string:s\n",
      "# count the char and word and space\n",
      "\n",
      "with open(\"newfile_1.txt\")as f:\n",
      "\n",
      "    space_c=0\n",
      "\n",
      "    sla=0\n",
      "\n",
      "    for i in f.readlines():\n",
      "\n",
      "                space_c+=1\n",
      "\n",
      "                sla+=1\n",
      "\n",
      "            else:\n",
      "\n",
      "print(\"space:\",space_c-1)\n",
      "\n",
      "print(\"line:\",sla+1)\n"
     ]
    }
   ],
   "source": [
    "# write to check a string in a given line of a file it should return the line\n",
    "# canraining the strign\n",
    "f=open(\"newfile_1.txt\")\n",
    "flag=0\n",
    "sub=input(\"enter the string:\")\n",
    "for line in f:\n",
    "    if sub in line:\n",
    "        flag=1\n",
    "        print(line)\n",
    "if flag==0:\n",
    "    print(\"not found\")\n",
    "f.close()    "
   ]
  },
  {
   "cell_type": "code",
   "execution_count": 12,
   "id": "e5c8bf7b",
   "metadata": {},
   "outputs": [
    {
     "name": "stdout",
     "output_type": "stream",
     "text": [
      "Overwriting shashi1.txt\n"
     ]
    }
   ],
   "source": [
    "%%writefile shashi1.txt\n",
    "hello\n",
    "hi\n",
    "how are you\n",
    "I am fin\n"
   ]
  },
  {
   "cell_type": "code",
   "execution_count": 14,
   "id": "3b3762fe",
   "metadata": {},
   "outputs": [
    {
     "name": "stdout",
     "output_type": "stream",
     "text": [
      "0\n",
      "hello\n",
      "hi\n",
      "how are you\n",
      "I am fin\n",
      "\n",
      "34\n"
     ]
    }
   ],
   "source": [
    "f=open(\"shashi1.txt\")\n",
    "print(f.tell())\n",
    "print(f.read(10))\n",
    "print(f.seek(0,2))\n",
    "print(f.tell())"
   ]
  },
  {
   "cell_type": "code",
   "execution_count": null,
   "id": "dbdd9e2d",
   "metadata": {},
   "outputs": [],
   "source": []
  }
 ],
 "metadata": {
  "kernelspec": {
   "display_name": "Python 3 (ipykernel)",
   "language": "python",
   "name": "python3"
  },
  "language_info": {
   "codemirror_mode": {
    "name": "ipython",
    "version": 3
   },
   "file_extension": ".py",
   "mimetype": "text/x-python",
   "name": "python",
   "nbconvert_exporter": "python",
   "pygments_lexer": "ipython3",
   "version": "3.11.5"
  }
 },
 "nbformat": 4,
 "nbformat_minor": 5
}
