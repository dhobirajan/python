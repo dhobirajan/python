{
 "cells": [
  {
   "cell_type": "code",
   "execution_count": 2,
   "id": "17a82e24",
   "metadata": {},
   "outputs": [],
   "source": [
    "#LIST #\n",
    "# it is a MUTABLE CONTAINER OR HETROGENEOUS"
   ]
  },
  {
   "cell_type": "code",
   "execution_count": 4,
   "id": "51669ed1",
   "metadata": {},
   "outputs": [
    {
     "name": "stdout",
     "output_type": "stream",
     "text": [
      "<class 'list'>\n",
      "[1, 2, 3, 4]\n"
     ]
    }
   ],
   "source": [
    "x=[1,2,3,4]\n",
    "print(type(x))\n",
    "print(x)"
   ]
  },
  {
   "cell_type": "code",
   "execution_count": 8,
   "id": "174c98fa",
   "metadata": {},
   "outputs": [
    {
     "name": "stdout",
     "output_type": "stream",
     "text": [
      "[1, 2, 3, 4, 5, 6, 7, 8]\n",
      "[9, 8, 7, 6, 5, 4, 3, 2, 1]\n"
     ]
    }
   ],
   "source": [
    "#slicing\n",
    "x=[1,2,3,4,5,6,7,8,9]\n",
    "print(x[0:8])\n",
    "print(x[::-1])"
   ]
  },
  {
   "cell_type": "code",
   "execution_count": 10,
   "id": "6d6d4625",
   "metadata": {},
   "outputs": [
    {
     "name": "stdout",
     "output_type": "stream",
     "text": [
      "[1, 2, 'hi', 4]\n",
      "[1, 2, 4]\n"
     ]
    }
   ],
   "source": [
    "#initial memory ans add ,delete\n",
    "x=[1,2,3,4]\n",
    "x[2]='hi'\n",
    "print(x)\n",
    "del(x[2])\n",
    "print(x)"
   ]
  },
  {
   "cell_type": "code",
   "execution_count": 18,
   "id": "ee30879f",
   "metadata": {},
   "outputs": [
    {
     "name": "stdout",
     "output_type": "stream",
     "text": [
      "1\n",
      "5\n",
      "4\n",
      "[1, 2, 3, 5]\n",
      "[1, 2, 3, 5]\n"
     ]
    }
   ],
   "source": [
    "#common function\n",
    "x=[1,2,3,5]\n",
    "print(min(x))\n",
    "print(max(x))\n",
    "print(len(x))\n",
    "print(sorted(x))\n",
    "print(x)# old list is return because sorted() is a function not a method"
   ]
  },
  {
   "cell_type": "code",
   "execution_count": 26,
   "id": "5d7325c9",
   "metadata": {},
   "outputs": [
    {
     "name": "stdout",
     "output_type": "stream",
     "text": [
      "[1, 2, 3, 4, 5, 100]\n",
      "[1, 2, 3, 4, 5, 100, (100, 200)]\n",
      "[1, 2, 3, 4, 5, 100, (100, 200), 'hello']\n"
     ]
    }
   ],
   "source": [
    "#append()\n",
    "x=[1,2,3,4,5]\n",
    "x.append(100)\n",
    "print(x)\n",
    "# if x.append(100,200) then return type error \n",
    "x.append((100,200))\n",
    "print(x)\n",
    "x.append(\"hello\")\n",
    "print(x)"
   ]
  },
  {
   "cell_type": "code",
   "execution_count": 30,
   "id": "31cb3530",
   "metadata": {},
   "outputs": [
    {
     "name": "stdout",
     "output_type": "stream",
     "text": [
      "[1, 2, 3, 5, 100]\n",
      "[1, 2, 3, 5, 100, 'h', 'e', 'l', 'l', 'o']\n",
      "[1, 2, 3, 5, 100, 'h', 'e', 'l', 'l', 'o', 1, 2, 3]\n"
     ]
    }
   ],
   "source": [
    "#extend()  itrable like=list ,string, tuple,dictionary \n",
    "x=[1,2,3,5]\n",
    "x.extend([100])\n",
    "print(x)\n",
    "x.extend(\"hello\")\n",
    "print(x)\n",
    "x.extend([1,2,3])\n",
    "print(x)"
   ]
  },
  {
   "cell_type": "code",
   "execution_count": 34,
   "id": "c580b4eb",
   "metadata": {},
   "outputs": [
    {
     "name": "stdout",
     "output_type": "stream",
     "text": [
      "[1, 2, 3, 4, '#', 5]\n"
     ]
    }
   ],
   "source": [
    "#insert()\n",
    "x=[1,2,3,4,5]\n",
    "# x.insert(3,'$') Left to Right flow \n",
    "x.insert(-1,'#')\n",
    "print(x)"
   ]
  },
  {
   "cell_type": "code",
   "execution_count": 36,
   "id": "44ca8145",
   "metadata": {},
   "outputs": [
    {
     "name": "stdout",
     "output_type": "stream",
     "text": [
      "[1, 2, 3, 4, 5, 6]\n"
     ]
    }
   ],
   "source": [
    "#remove()\n",
    "x=[1,2,2,3,4,5,6]\n",
    "x.remove(2)\n",
    "print(x)"
   ]
  },
  {
   "cell_type": "code",
   "execution_count": 4,
   "id": "a83c4c3a",
   "metadata": {},
   "outputs": [
    {
     "name": "stdout",
     "output_type": "stream",
     "text": [
      "[1, 2, 3, 4]\n",
      "[1, 2, 4]\n"
     ]
    }
   ],
   "source": [
    "#pop()\n",
    "x=[1,2,3,4,66]\n",
    "x.pop() # by default return last value and delete it\n",
    "print(x)\n",
    "x.pop(2)\n",
    "print(x)"
   ]
  },
  {
   "cell_type": "code",
   "execution_count": 5,
   "id": "72bac5e2",
   "metadata": {},
   "outputs": [
    {
     "name": "stdout",
     "output_type": "stream",
     "text": [
      "[]\n"
     ]
    }
   ],
   "source": [
    "# cleare\n",
    "x=[1,2,3,4]\n",
    "x.clear()\n",
    "print(x)"
   ]
  },
  {
   "cell_type": "code",
   "execution_count": 8,
   "id": "647f917c",
   "metadata": {},
   "outputs": [
    {
     "name": "stdout",
     "output_type": "stream",
     "text": [
      "[1, 2, 2, 3, 4, 6, 9]\n"
     ]
    }
   ],
   "source": [
    "#sort()\n",
    "x=[6,2,4,9,3,2,1]\n",
    "x.sort()\n",
    "print(x)"
   ]
  },
  {
   "cell_type": "code",
   "execution_count": 9,
   "id": "81350f10",
   "metadata": {},
   "outputs": [
    {
     "name": "stdout",
     "output_type": "stream",
     "text": [
      "1\n"
     ]
    }
   ],
   "source": [
    "#index\n",
    "x=[1,2,3,4,5,6]\n",
    "print(x.index(2))"
   ]
  },
  {
   "cell_type": "code",
   "execution_count": 10,
   "id": "6b5d2557",
   "metadata": {},
   "outputs": [
    {
     "name": "stdout",
     "output_type": "stream",
     "text": [
      "[6, 45, 3, 2, 100, 1]\n"
     ]
    }
   ],
   "source": [
    "#reverse()\n",
    "x=[1,100,2,3,45,6]\n",
    "x.reverse()\n",
    "print(x)"
   ]
  },
  {
   "cell_type": "code",
   "execution_count": 12,
   "id": "af192071",
   "metadata": {},
   "outputs": [
    {
     "name": "stdout",
     "output_type": "stream",
     "text": [
      "[1, 2, 3, 4, 5]\n"
     ]
    }
   ],
   "source": [
    "#reversed() funtion\n",
    "x=[1,2,3,4,5]\n",
    "list(reversed(x))\n",
    "print(x)"
   ]
  },
  {
   "cell_type": "code",
   "execution_count": 14,
   "id": "3565e26c",
   "metadata": {},
   "outputs": [
    {
     "name": "stdout",
     "output_type": "stream",
     "text": [
      "[1, 2, 3, 5]\n",
      "[1, 2, 100, 5]\n"
     ]
    }
   ],
   "source": [
    "#copy()\n",
    "x=[1,2,3,5]\n",
    "y=x.copy()\n",
    "y[2]=100\n",
    "print(x)\n",
    "print(y)"
   ]
  },
  {
   "cell_type": "code",
   "execution_count": null,
   "id": "9d63ce9f",
   "metadata": {},
   "outputs": [],
   "source": [
    "lis=eval(input(\"enter the list:\"))\n",
    "shift=int(input(\"enter the shift:\"))\n",
    "n=len(lis)\n",
    "if shift>n:\n",
    "    print(lis[::-1])\n",
    "else:\n",
    "    print(lis[shift::]+lis[0:shift])"
   ]
  },
  {
   "cell_type": "code",
   "execution_count": null,
   "id": "867beeae",
   "metadata": {},
   "outputs": [],
   "source": []
  }
 ],
 "metadata": {
  "kernelspec": {
   "display_name": "Python 3 (ipykernel)",
   "language": "python",
   "name": "python3"
  },
  "language_info": {
   "codemirror_mode": {
    "name": "ipython",
    "version": 3
   },
   "file_extension": ".py",
   "mimetype": "text/x-python",
   "name": "python",
   "nbconvert_exporter": "python",
   "pygments_lexer": "ipython3",
   "version": "3.11.5"
  }
 },
 "nbformat": 4,
 "nbformat_minor": 5
}
