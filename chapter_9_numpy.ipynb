{
 "cells": [
  {
   "cell_type": "code",
   "execution_count": 2,
   "id": "9e44d3e4",
   "metadata": {},
   "outputs": [
    {
     "name": "stdout",
     "output_type": "stream",
     "text": [
      "[1 2 3]\n",
      "<class 'numpy.ndarray'>\n"
     ]
    }
   ],
   "source": [
    "import numpy as np\n",
    "a=np.array([1,2,3]) #vector\n",
    "print(a)\n",
    "print(type(a))\n",
    "\n"
   ]
  },
  {
   "cell_type": "code",
   "execution_count": 3,
   "id": "84cfc876",
   "metadata": {},
   "outputs": [
    {
     "data": {
      "text/plain": [
       "dtype('int32')"
      ]
     },
     "execution_count": 3,
     "metadata": {},
     "output_type": "execute_result"
    }
   ],
   "source": [
    "a.dtype"
   ]
  },
  {
   "cell_type": "code",
   "execution_count": 4,
   "id": "22476ad5",
   "metadata": {},
   "outputs": [
    {
     "name": "stdout",
     "output_type": "stream",
     "text": [
      "[1. 2. 3.]\n",
      "<class 'numpy.ndarray'>\n"
     ]
    }
   ],
   "source": [
    "import numpy as np\n",
    "a=np.array([1,2,3],dtype=float) \n",
    "print(a)\n",
    "print(type(a))\n",
    "\n"
   ]
  },
  {
   "cell_type": "code",
   "execution_count": 2,
   "id": "232fe428",
   "metadata": {},
   "outputs": [
    {
     "name": "stdout",
     "output_type": "stream",
     "text": [
      "[ True  True  True]\n",
      "<class 'numpy.ndarray'>\n"
     ]
    }
   ],
   "source": [
    "import numpy as np\n",
    "a=np.array([1,2,3],dtype=bool) \n",
    "print(a)\n",
    "print(type(a))\n",
    "\n"
   ]
  },
  {
   "cell_type": "code",
   "execution_count": 3,
   "id": "867dada7",
   "metadata": {},
   "outputs": [
    {
     "name": "stdout",
     "output_type": "stream",
     "text": [
      "[1.+0.j 2.+0.j 3.+0.j]\n",
      "<class 'numpy.ndarray'>\n"
     ]
    }
   ],
   "source": [
    "import numpy as np\n",
    "a=np.array([1,2,3],dtype=complex) \n",
    "print(a)\n",
    "print(type(a))\n",
    "\n"
   ]
  },
  {
   "cell_type": "code",
   "execution_count": 4,
   "id": "badf55f3",
   "metadata": {},
   "outputs": [
    {
     "name": "stdout",
     "output_type": "stream",
     "text": [
      "[[1 2 3]\n",
      " [4 5 6]]\n",
      "<class 'numpy.ndarray'>\n"
     ]
    }
   ],
   "source": [
    "import numpy as np\n",
    "a=np.array(([1,2,3],[4,5,6])) \n",
    "print(a)\n",
    "print(type(a))\n",
    "\n"
   ]
  },
  {
   "cell_type": "code",
   "execution_count": 9,
   "id": "85209264",
   "metadata": {},
   "outputs": [
    {
     "name": "stdout",
     "output_type": "stream",
     "text": [
      "Help on built-in function arange in module numpy:\n",
      "\n",
      "arange(...)\n",
      "    arange([start,] stop[, step,], dtype=None, *, like=None)\n",
      "    \n",
      "    Return evenly spaced values within a given interval.\n",
      "    \n",
      "    ``arange`` can be called with a varying number of positional arguments:\n",
      "    \n",
      "    * ``arange(stop)``: Values are generated within the half-open interval\n",
      "      ``[0, stop)`` (in other words, the interval including `start` but\n",
      "      excluding `stop`).\n",
      "    * ``arange(start, stop)``: Values are generated within the half-open\n",
      "      interval ``[start, stop)``.\n",
      "    * ``arange(start, stop, step)`` Values are generated within the half-open\n",
      "      interval ``[start, stop)``, with spacing between values given by\n",
      "      ``step``.\n",
      "    \n",
      "    For integer arguments the function is roughly equivalent to the Python\n",
      "    built-in :py:class:`range`, but returns an ndarray rather than a ``range``\n",
      "    instance.\n",
      "    \n",
      "    When using a non-integer step, such as 0.1, it is often better to use\n",
      "    `numpy.linspace`.\n",
      "    \n",
      "    See the Warning sections below for more information.\n",
      "    \n",
      "    Parameters\n",
      "    ----------\n",
      "    start : integer or real, optional\n",
      "        Start of interval.  The interval includes this value.  The default\n",
      "        start value is 0.\n",
      "    stop : integer or real\n",
      "        End of interval.  The interval does not include this value, except\n",
      "        in some cases where `step` is not an integer and floating point\n",
      "        round-off affects the length of `out`.\n",
      "    step : integer or real, optional\n",
      "        Spacing between values.  For any output `out`, this is the distance\n",
      "        between two adjacent values, ``out[i+1] - out[i]``.  The default\n",
      "        step size is 1.  If `step` is specified as a position argument,\n",
      "        `start` must also be given.\n",
      "    dtype : dtype, optional\n",
      "        The type of the output array.  If `dtype` is not given, infer the data\n",
      "        type from the other input arguments.\n",
      "    like : array_like, optional\n",
      "        Reference object to allow the creation of arrays which are not\n",
      "        NumPy arrays. If an array-like passed in as ``like`` supports\n",
      "        the ``__array_function__`` protocol, the result will be defined\n",
      "        by it. In this case, it ensures the creation of an array object\n",
      "        compatible with that passed in via this argument.\n",
      "    \n",
      "        .. versionadded:: 1.20.0\n",
      "    \n",
      "    Returns\n",
      "    -------\n",
      "    arange : ndarray\n",
      "        Array of evenly spaced values.\n",
      "    \n",
      "        For floating point arguments, the length of the result is\n",
      "        ``ceil((stop - start)/step)``.  Because of floating point overflow,\n",
      "        this rule may result in the last element of `out` being greater\n",
      "        than `stop`.\n",
      "    \n",
      "    Warnings\n",
      "    --------\n",
      "    The length of the output might not be numerically stable.\n",
      "    \n",
      "    Another stability issue is due to the internal implementation of\n",
      "    `numpy.arange`.\n",
      "    The actual step value used to populate the array is\n",
      "    ``dtype(start + step) - dtype(start)`` and not `step`. Precision loss\n",
      "    can occur here, due to casting or due to using floating points when\n",
      "    `start` is much larger than `step`. This can lead to unexpected\n",
      "    behaviour. For example::\n",
      "    \n",
      "      >>> np.arange(0, 5, 0.5, dtype=int)\n",
      "      array([0, 0, 0, 0, 0, 0, 0, 0, 0, 0])\n",
      "      >>> np.arange(-3, 3, 0.5, dtype=int)\n",
      "      array([-3, -2, -1,  0,  1,  2,  3,  4,  5,  6,  7,  8])\n",
      "    \n",
      "    In such cases, the use of `numpy.linspace` should be preferred.\n",
      "    \n",
      "    The built-in :py:class:`range` generates :std:doc:`Python built-in integers\n",
      "    that have arbitrary size <python:c-api/long>`, while `numpy.arange`\n",
      "    produces `numpy.int32` or `numpy.int64` numbers. This may result in\n",
      "    incorrect results for large integer values::\n",
      "    \n",
      "      >>> power = 40\n",
      "      >>> modulo = 10000\n",
      "      >>> x1 = [(n ** power) % modulo for n in range(8)]\n",
      "      >>> x2 = [(n ** power) % modulo for n in np.arange(8)]\n",
      "      >>> print(x1)\n",
      "      [0, 1, 7776, 8801, 6176, 625, 6576, 4001]  # correct\n",
      "      >>> print(x2)\n",
      "      [0, 1, 7776, 7185, 0, 5969, 4816, 3361]  # incorrect\n",
      "    \n",
      "    See Also\n",
      "    --------\n",
      "    numpy.linspace : Evenly spaced numbers with careful handling of endpoints.\n",
      "    numpy.ogrid: Arrays of evenly spaced numbers in N-dimensions.\n",
      "    numpy.mgrid: Grid-shaped arrays of evenly spaced numbers in N-dimensions.\n",
      "    :ref:`how-to-partition`\n",
      "    \n",
      "    Examples\n",
      "    --------\n",
      "    >>> np.arange(3)\n",
      "    array([0, 1, 2])\n",
      "    >>> np.arange(3.0)\n",
      "    array([ 0.,  1.,  2.])\n",
      "    >>> np.arange(3,7)\n",
      "    array([3, 4, 5, 6])\n",
      "    >>> np.arange(3,7,2)\n",
      "    array([3, 5])\n",
      "\n"
     ]
    }
   ],
   "source": [
    "help(np.arange)"
   ]
  },
  {
   "cell_type": "code",
   "execution_count": 15,
   "id": "70161c88",
   "metadata": {},
   "outputs": [
    {
     "name": "stdout",
     "output_type": "stream",
     "text": [
      "[0 1 2 3]\n",
      "[0. 1. 2. 3.]\n",
      "[3 4 5 6 7]\n",
      "[3. 4. 5. 6. 7.]\n",
      "[3 5 7]\n",
      "[]\n",
      "[8 7 6 5 4]\n"
     ]
    }
   ],
   "source": [
    "print(np.arange(4))\n",
    "print(np.arange(4.0))\n",
    "print(np.arange(3,8))\n",
    "print(np.arange(3,8,dtype=float))\n",
    "print(np.arange(3,8,2))\n",
    "print(np.arange(3,8,-1))\n",
    "print(np.arange(8,3,-1))"
   ]
  },
  {
   "cell_type": "code",
   "execution_count": 16,
   "id": "73d8e11d",
   "metadata": {},
   "outputs": [
    {
     "name": "stdout",
     "output_type": "stream",
     "text": [
      "Help on function reshape in module numpy:\n",
      "\n",
      "reshape(a, newshape, order='C')\n",
      "    Gives a new shape to an array without changing its data.\n",
      "    \n",
      "    Parameters\n",
      "    ----------\n",
      "    a : array_like\n",
      "        Array to be reshaped.\n",
      "    newshape : int or tuple of ints\n",
      "        The new shape should be compatible with the original shape. If\n",
      "        an integer, then the result will be a 1-D array of that length.\n",
      "        One shape dimension can be -1. In this case, the value is\n",
      "        inferred from the length of the array and remaining dimensions.\n",
      "    order : {'C', 'F', 'A'}, optional\n",
      "        Read the elements of `a` using this index order, and place the\n",
      "        elements into the reshaped array using this index order.  'C'\n",
      "        means to read / write the elements using C-like index order,\n",
      "        with the last axis index changing fastest, back to the first\n",
      "        axis index changing slowest. 'F' means to read / write the\n",
      "        elements using Fortran-like index order, with the first index\n",
      "        changing fastest, and the last index changing slowest. Note that\n",
      "        the 'C' and 'F' options take no account of the memory layout of\n",
      "        the underlying array, and only refer to the order of indexing.\n",
      "        'A' means to read / write the elements in Fortran-like index\n",
      "        order if `a` is Fortran *contiguous* in memory, C-like order\n",
      "        otherwise.\n",
      "    \n",
      "    Returns\n",
      "    -------\n",
      "    reshaped_array : ndarray\n",
      "        This will be a new view object if possible; otherwise, it will\n",
      "        be a copy.  Note there is no guarantee of the *memory layout* (C- or\n",
      "        Fortran- contiguous) of the returned array.\n",
      "    \n",
      "    See Also\n",
      "    --------\n",
      "    ndarray.reshape : Equivalent method.\n",
      "    \n",
      "    Notes\n",
      "    -----\n",
      "    It is not always possible to change the shape of an array without\n",
      "    copying the data. If you want an error to be raised when the data is copied,\n",
      "    you should assign the new shape to the shape attribute of the array::\n",
      "    \n",
      "     >>> a = np.zeros((10, 2))\n",
      "    \n",
      "     # A transpose makes the array non-contiguous\n",
      "     >>> b = a.T\n",
      "    \n",
      "     # Taking a view makes it possible to modify the shape without modifying\n",
      "     # the initial object.\n",
      "     >>> c = b.view()\n",
      "     >>> c.shape = (20)\n",
      "     Traceback (most recent call last):\n",
      "        ...\n",
      "     AttributeError: Incompatible shape for in-place modification. Use\n",
      "     `.reshape()` to make a copy with the desired shape.\n",
      "    \n",
      "    The `order` keyword gives the index ordering both for *fetching* the values\n",
      "    from `a`, and then *placing* the values into the output array.\n",
      "    For example, let's say you have an array:\n",
      "    \n",
      "    >>> a = np.arange(6).reshape((3, 2))\n",
      "    >>> a\n",
      "    array([[0, 1],\n",
      "           [2, 3],\n",
      "           [4, 5]])\n",
      "    \n",
      "    You can think of reshaping as first raveling the array (using the given\n",
      "    index order), then inserting the elements from the raveled array into the\n",
      "    new array using the same kind of index ordering as was used for the\n",
      "    raveling.\n",
      "    \n",
      "    >>> np.reshape(a, (2, 3)) # C-like index ordering\n",
      "    array([[0, 1, 2],\n",
      "           [3, 4, 5]])\n",
      "    >>> np.reshape(np.ravel(a), (2, 3)) # equivalent to C ravel then C reshape\n",
      "    array([[0, 1, 2],\n",
      "           [3, 4, 5]])\n",
      "    >>> np.reshape(a, (2, 3), order='F') # Fortran-like index ordering\n",
      "    array([[0, 4, 3],\n",
      "           [2, 1, 5]])\n",
      "    >>> np.reshape(np.ravel(a, order='F'), (2, 3), order='F')\n",
      "    array([[0, 4, 3],\n",
      "           [2, 1, 5]])\n",
      "    \n",
      "    Examples\n",
      "    --------\n",
      "    >>> a = np.array([[1,2,3], [4,5,6]])\n",
      "    >>> np.reshape(a, 6)\n",
      "    array([1, 2, 3, 4, 5, 6])\n",
      "    >>> np.reshape(a, 6, order='F')\n",
      "    array([1, 4, 2, 5, 3, 6])\n",
      "    \n",
      "    >>> np.reshape(a, (3,-1))       # the unspecified value is inferred to be 2\n",
      "    array([[1, 2],\n",
      "           [3, 4],\n",
      "           [5, 6]])\n",
      "\n"
     ]
    }
   ],
   "source": [
    "help(np.reshape)"
   ]
  },
  {
   "cell_type": "code",
   "execution_count": 19,
   "id": "22cd9767",
   "metadata": {},
   "outputs": [
    {
     "name": "stdout",
     "output_type": "stream",
     "text": [
      "[[0 1]\n",
      " [2 3]\n",
      " [4 5]]\n",
      "________________\n",
      "[[0 1 2]\n",
      " [3 4 5]\n",
      " [6 7 8]]\n"
     ]
    }
   ],
   "source": [
    "print(np.arange(6).reshape(3,2))\n",
    "a=np.arange(9)\n",
    "print(\"________________\")\n",
    "print(np.reshape(a,(3,3)))"
   ]
  },
  {
   "cell_type": "code",
   "execution_count": 20,
   "id": "e031fe05",
   "metadata": {},
   "outputs": [
    {
     "name": "stdout",
     "output_type": "stream",
     "text": [
      "Help on function linspace in module numpy:\n",
      "\n",
      "linspace(start, stop, num=50, endpoint=True, retstep=False, dtype=None, axis=0)\n",
      "    Return evenly spaced numbers over a specified interval.\n",
      "    \n",
      "    Returns `num` evenly spaced samples, calculated over the\n",
      "    interval [`start`, `stop`].\n",
      "    \n",
      "    The endpoint of the interval can optionally be excluded.\n",
      "    \n",
      "    .. versionchanged:: 1.16.0\n",
      "        Non-scalar `start` and `stop` are now supported.\n",
      "    \n",
      "    .. versionchanged:: 1.20.0\n",
      "        Values are rounded towards ``-inf`` instead of ``0`` when an\n",
      "        integer ``dtype`` is specified. The old behavior can\n",
      "        still be obtained with ``np.linspace(start, stop, num).astype(int)``\n",
      "    \n",
      "    Parameters\n",
      "    ----------\n",
      "    start : array_like\n",
      "        The starting value of the sequence.\n",
      "    stop : array_like\n",
      "        The end value of the sequence, unless `endpoint` is set to False.\n",
      "        In that case, the sequence consists of all but the last of ``num + 1``\n",
      "        evenly spaced samples, so that `stop` is excluded.  Note that the step\n",
      "        size changes when `endpoint` is False.\n",
      "    num : int, optional\n",
      "        Number of samples to generate. Default is 50. Must be non-negative.\n",
      "    endpoint : bool, optional\n",
      "        If True, `stop` is the last sample. Otherwise, it is not included.\n",
      "        Default is True.\n",
      "    retstep : bool, optional\n",
      "        If True, return (`samples`, `step`), where `step` is the spacing\n",
      "        between samples.\n",
      "    dtype : dtype, optional\n",
      "        The type of the output array.  If `dtype` is not given, the data type\n",
      "        is inferred from `start` and `stop`. The inferred dtype will never be\n",
      "        an integer; `float` is chosen even if the arguments would produce an\n",
      "        array of integers.\n",
      "    \n",
      "        .. versionadded:: 1.9.0\n",
      "    \n",
      "    axis : int, optional\n",
      "        The axis in the result to store the samples.  Relevant only if start\n",
      "        or stop are array-like.  By default (0), the samples will be along a\n",
      "        new axis inserted at the beginning. Use -1 to get an axis at the end.\n",
      "    \n",
      "        .. versionadded:: 1.16.0\n",
      "    \n",
      "    Returns\n",
      "    -------\n",
      "    samples : ndarray\n",
      "        There are `num` equally spaced samples in the closed interval\n",
      "        ``[start, stop]`` or the half-open interval ``[start, stop)``\n",
      "        (depending on whether `endpoint` is True or False).\n",
      "    step : float, optional\n",
      "        Only returned if `retstep` is True\n",
      "    \n",
      "        Size of spacing between samples.\n",
      "    \n",
      "    \n",
      "    See Also\n",
      "    --------\n",
      "    arange : Similar to `linspace`, but uses a step size (instead of the\n",
      "             number of samples).\n",
      "    geomspace : Similar to `linspace`, but with numbers spaced evenly on a log\n",
      "                scale (a geometric progression).\n",
      "    logspace : Similar to `geomspace`, but with the end points specified as\n",
      "               logarithms.\n",
      "    :ref:`how-to-partition`\n",
      "    \n",
      "    Examples\n",
      "    --------\n",
      "    >>> np.linspace(2.0, 3.0, num=5)\n",
      "    array([2.  , 2.25, 2.5 , 2.75, 3.  ])\n",
      "    >>> np.linspace(2.0, 3.0, num=5, endpoint=False)\n",
      "    array([2. ,  2.2,  2.4,  2.6,  2.8])\n",
      "    >>> np.linspace(2.0, 3.0, num=5, retstep=True)\n",
      "    (array([2.  ,  2.25,  2.5 ,  2.75,  3.  ]), 0.25)\n",
      "    \n",
      "    Graphical illustration:\n",
      "    \n",
      "    >>> import matplotlib.pyplot as plt\n",
      "    >>> N = 8\n",
      "    >>> y = np.zeros(N)\n",
      "    >>> x1 = np.linspace(0, 10, N, endpoint=True)\n",
      "    >>> x2 = np.linspace(0, 10, N, endpoint=False)\n",
      "    >>> plt.plot(x1, y, 'o')\n",
      "    [<matplotlib.lines.Line2D object at 0x...>]\n",
      "    >>> plt.plot(x2, y + 0.5, 'o')\n",
      "    [<matplotlib.lines.Line2D object at 0x...>]\n",
      "    >>> plt.ylim([-0.5, 1])\n",
      "    (-0.5, 1)\n",
      "    >>> plt.show()\n",
      "\n"
     ]
    }
   ],
   "source": [
    "help(np.linspace)"
   ]
  },
  {
   "cell_type": "code",
   "execution_count": 27,
   "id": "ced40445",
   "metadata": {},
   "outputs": [
    {
     "name": "stdout",
     "output_type": "stream",
     "text": [
      "[2.   2.25 2.5  2.75 3.  ]\n",
      "[2.  2.2 2.4 2.6 2.8]\n",
      "(array([2.  , 2.25, 2.5 , 2.75, 3.  ]), 0.25)\n",
      "[[1. 0. 0. 0.]\n",
      " [0. 1. 0. 0.]\n",
      " [0. 0. 1. 0.]\n",
      " [0. 0. 0. 1.]]\n"
     ]
    }
   ],
   "source": [
    "print(np.linspace(2.0,3.0,num=5))\n",
    "print(np.linspace(2.0,3.0,num=5,endpoint=False))\n",
    "print(np.linspace(2.0,3.0,num=5,retstep=True))\n",
    "print(np.identity(4))"
   ]
  },
  {
   "cell_type": "code",
   "execution_count": 32,
   "id": "b31f0938",
   "metadata": {},
   "outputs": [
    {
     "name": "stdout",
     "output_type": "stream",
     "text": [
      "[0 1 2 3 4 5 6 7 8 9]\n",
      "\n",
      "[[ 0.  1.  2.  3.]\n",
      " [ 4.  5.  6.  7.]\n",
      " [ 8.  9. 10. 11.]]\n",
      "\n",
      "[[[0 1]\n",
      "  [2 3]]\n",
      "\n",
      " [[4 5]\n",
      "  [6 7]]]\n",
      "******************\n",
      "1\n",
      "(10,)\n",
      "10\n",
      "4\n",
      "*******************\n",
      "2\n",
      "(3, 4)\n",
      "12\n",
      "8\n",
      "********************\n",
      "3\n",
      "(2, 2, 2)\n",
      "8\n",
      "4\n"
     ]
    }
   ],
   "source": [
    "a1=np.arange(10,dtype=np.int32)\n",
    "a2=np.arange(12,dtype=float).reshape(3,4)\n",
    "a3=np.arange(8).reshape(2,2,2)\n",
    "print(a1)\n",
    "print()\n",
    "print(a2)\n",
    "print()\n",
    "print(a3)\n",
    "print(\"******************\")\n",
    "print(a1.ndim)\n",
    "print(a1.shape)\n",
    "print(a1.size)\n",
    "print(a1.itemsize)\n",
    "print(\"*******************\")\n",
    "print(a2.ndim)\n",
    "print(a2.shape)\n",
    "print(a2.size)\n",
    "print(a2.itemsize)\n",
    "print(\"********************\")\n",
    "print(a3.ndim)\n",
    "print(a3.shape)\n",
    "print(a3.size)\n",
    "print(a3.itemsize)"
   ]
  },
  {
   "cell_type": "code",
   "execution_count": 40,
   "id": "917166e5",
   "metadata": {},
   "outputs": [
    {
     "name": "stdout",
     "output_type": "stream",
     "text": [
      "[[ 0  1  2  3]\n",
      " [ 4  5  6  7]\n",
      " [ 8  9 10 11]]\n",
      "\n",
      "[[12 13 14 15]\n",
      " [16 17 18 19]\n",
      " [20 21 22 23]]\n",
      "******************\n",
      "[[12 14 16 18]\n",
      " [20 22 24 26]\n",
      " [28 30 32 34]]\n",
      "\n",
      "[[-12 -12 -12 -12]\n",
      " [-12 -12 -12 -12]\n",
      " [-12 -12 -12 -12]]\n",
      "\n",
      "[[  0  13  28  45]\n",
      " [ 64  85 108 133]\n",
      " [160 189 220 253]]\n",
      "\n",
      "[[0.  0.5 1.  1.5]\n",
      " [2.  2.5 3.  3.5]\n",
      " [4.  4.5 5.  5.5]]\n",
      "\n",
      "[[  0   1   4   9]\n",
      " [ 16  25  36  49]\n",
      " [ 64  81 100 121]]\n",
      "\n",
      "[[0 0 1 1]\n",
      " [2 2 3 3]\n",
      " [4 4 5 5]]\n"
     ]
    }
   ],
   "source": [
    "#scaler oprations\n",
    "a1=np.arange(12).reshape(3,4)\n",
    "a2=np.arange(12,24).reshape(3,4)\n",
    "print(a1)\n",
    "print()\n",
    "print(a2)\n",
    "print(\"******************\")\n",
    "print(a1+a2) #vector\n",
    "print()\n",
    "print(a1-a2)\n",
    "print()\n",
    "print(a1*a2)#element wise\n",
    "print()\n",
    "print(a1/2) #scaler\n",
    "print()\n",
    "print(a1**2)#scaler\n",
    "print()\n",
    "print(a1//2)#scaler"
   ]
  },
  {
   "cell_type": "code",
   "execution_count": 41,
   "id": "8a02e3bb",
   "metadata": {},
   "outputs": [
    {
     "data": {
      "text/plain": [
       "array([  1,  12,  23,  34,  65,  87, 645])"
      ]
     },
     "execution_count": 41,
     "metadata": {},
     "output_type": "execute_result"
    }
   ],
   "source": [
    "#sort operator\n",
    "a=np.array([1,34,645,12,65,23,87])\n",
    "np.sort(a)"
   ]
  },
  {
   "cell_type": "code",
   "execution_count": 46,
   "id": "cfcbef26",
   "metadata": {},
   "outputs": [
    {
     "name": "stdout",
     "output_type": "stream",
     "text": [
      "[[ 9  7 15 20]\n",
      " [18  7 32 26]\n",
      " [21 36 53 35]\n",
      " [75 43 71 43]\n",
      " [82 80 71 75]\n",
      " [86 94 99 83]]\n",
      "************************\n",
      "[[15 26 75 80]\n",
      " [ 7 18 75 99]\n",
      " [ 9 32 43 43]\n",
      " [20 71 86 94]\n",
      " [21 35 36 53]\n",
      " [ 7 71 82 83]]\n"
     ]
    }
   ],
   "source": [
    "b=np.random.randint(1,100,24).reshape(6,4)\n",
    "print(np.sort(b,axis=0))\n",
    "print(\"************************\")\n",
    "print(np.sort(b,axis=1))"
   ]
  },
  {
   "cell_type": "code",
   "execution_count": 52,
   "id": "4d1bb842",
   "metadata": {},
   "outputs": [
    {
     "name": "stdout",
     "output_type": "stream",
     "text": [
      "[[ 0  1  2  3]\n",
      " [ 4  5  6  7]\n",
      " [ 8  9 10 11]]\n",
      "\n",
      "[[12 13 14 15]\n",
      " [16 17 18 19]\n",
      " [20 21 22 23]]\n",
      "**************************\n",
      "[[ 0  1  2  3]\n",
      " [ 4  5  6  7]\n",
      " [ 8  9 10 11]\n",
      " [12 13 14 15]\n",
      " [16 17 18 19]\n",
      " [20 21 22 23]]\n",
      "\n",
      "[[ 0  1  2  3 12 13 14 15]\n",
      " [ 4  5  6  7 16 17 18 19]\n",
      " [ 8  9 10 11 20 21 22 23]]\n"
     ]
    }
   ],
   "source": [
    "#np.concatinate: this function concatinate a sequence of arange along and existing axis\n",
    "a1=np.arange(12).reshape(3,4)\n",
    "a2=np.arange(12,24).reshape(3,4)\n",
    "print(a1)\n",
    "print()\n",
    "print(a2)\n",
    "print(\"**************************\")\n",
    "print(np.concatenate((a1,a2),axis=0))\n",
    "print()\n",
    "print(np.concatenate((a1,a2),axis=1))"
   ]
  },
  {
   "cell_type": "code",
   "execution_count": 55,
   "id": "0029dc2c",
   "metadata": {},
   "outputs": [
    {
     "name": "stdout",
     "output_type": "stream",
     "text": [
      "(array([0, 1, 4, 5], dtype=int64),)\n",
      "[ 0  0 15 43  0  0]\n"
     ]
    }
   ],
   "source": [
    "#np.where:return the index\n",
    "a=np.array([58,59,15,43,66,88])\n",
    "print(np.where(a>49))\n",
    "print(np.where(a>50,0,a))"
   ]
  },
  {
   "cell_type": "code",
   "execution_count": 58,
   "id": "7ebdc99b",
   "metadata": {},
   "outputs": [
    {
     "name": "stdout",
     "output_type": "stream",
     "text": [
      "[array([1, 2]), array([4, 5]), array([6])]\n",
      "\n",
      "[array([[1, 2],\n",
      "       [3, 4]]), array([[5, 6],\n",
      "       [7, 8]]), array([[ 9, 10],\n",
      "       [11, 12]])]\n"
     ]
    }
   ],
   "source": [
    "arr=np.array([1,2,4,5,6])\n",
    "newarr=np.array_split(arr,3)\n",
    "print(newarr)\n",
    "print()\n",
    "arr1=np.array([[1,2],[3,4],[5,6],[7,8],[9,10],[11,12]])\n",
    "arr2=np.array_split(arr1,3)\n",
    "print(arr2)"
   ]
  },
  {
   "cell_type": "code",
   "execution_count": 3,
   "id": "22ff89cb",
   "metadata": {},
   "outputs": [
    {
     "name": "stdout",
     "output_type": "stream",
     "text": [
      "[array([[1, 2],\n",
      "       [3, 4]]), array([[5, 6],\n",
      "       [7, 8]]), array([[ 9, 10],\n",
      "       [11, 12]])]\n",
      "\n",
      "[array([[ 1],\n",
      "       [ 3],\n",
      "       [ 5],\n",
      "       [ 7],\n",
      "       [ 9],\n",
      "       [11]]), array([[ 2],\n",
      "       [ 4],\n",
      "       [ 6],\n",
      "       [ 8],\n",
      "       [10],\n",
      "       [12]]), array([], shape=(6, 0), dtype=int32)]\n",
      "\n",
      "[array([[1, 2],\n",
      "       [3, 4]]), array([[5, 6],\n",
      "       [7, 8]]), array([[ 9, 10],\n",
      "       [11, 12]])]\n"
     ]
    }
   ],
   "source": [
    "arr1=np.array([[1,2],[3,4],[5,6],[7,8],[9,10],[11,12]])\n",
    "print(np.array_split(arr1,3))\n",
    "print()\n",
    "print(np.array_split(arr1,3,axis=1))\n",
    "print()\n",
    "print(np.array_split(arr1,3,axis=0))\n"
   ]
  },
  {
   "cell_type": "code",
   "execution_count": 9,
   "id": "801b988e",
   "metadata": {},
   "outputs": [
    {
     "name": "stdout",
     "output_type": "stream",
     "text": [
      "[1 3 4 5 6 7]\n",
      "[7 6 5 4 3 1]\n",
      "[4 5 1 3 6 7]\n",
      "[1 3 4 5 6 7]\n"
     ]
    }
   ],
   "source": [
    "#sort():\n",
    "a=np.array([4,5,1,3,6,7])\n",
    "print(np.sort(a))\n",
    "print(np.sort(a)[::-1])\n",
    "print(a)\n",
    "a.sort()\n",
    "print(a)"
   ]
  },
  {
   "cell_type": "code",
   "execution_count": 12,
   "id": "f1062b4c",
   "metadata": {},
   "outputs": [
    {
     "name": "stdout",
     "output_type": "stream",
     "text": [
      "[[88 94 82 60]\n",
      " [87 97 19 34]\n",
      " [62 68 97 12]\n",
      " [55 44 96 17]\n",
      " [16 19 51 17]\n",
      " [97 61 25  1]]\n",
      "\n",
      "[[16 19 19  1]\n",
      " [55 44 25 12]\n",
      " [62 61 51 17]\n",
      " [87 68 82 17]\n",
      " [88 94 96 34]\n",
      " [97 97 97 60]]\n",
      "\n",
      "[[60 82 88 94]\n",
      " [19 34 87 97]\n",
      " [12 62 68 97]\n",
      " [17 44 55 96]\n",
      " [16 17 19 51]\n",
      " [ 1 25 61 97]]\n"
     ]
    }
   ],
   "source": [
    "b=np.random.randint(1,100,24).reshape(6,4)\n",
    "print(b)\n",
    "print()\n",
    "print(np.sort(b,axis=0))\n",
    "print()\n",
    "print(np.sort(b,axis=1))"
   ]
  },
  {
   "cell_type": "code",
   "execution_count": 15,
   "id": "7d38a437",
   "metadata": {},
   "outputs": [
    {
     "name": "stdout",
     "output_type": "stream",
     "text": [
      "1\n",
      "2\n",
      "3\n",
      "4\n",
      "5\n",
      "\n",
      "[1 2]\n",
      "[3 4]\n",
      "\n",
      "1\n",
      "2\n",
      "3\n",
      "4\n"
     ]
    }
   ],
   "source": [
    "#iteration\n",
    "x=np.array([1,2,3,4,5])\n",
    "for i in x:\n",
    "    print(i)\n",
    "print()\n",
    "\n",
    "y=np.array([[1,2],[3,4]])\n",
    "for j in y:\n",
    "    print(j)\n",
    "print()\n",
    "# for 2D array\n",
    "for i in  np.nditer(y):\n",
    "    print(i)"
   ]
  },
  {
   "cell_type": "code",
   "execution_count": 16,
   "id": "feec8ddf",
   "metadata": {},
   "outputs": [
    {
     "name": "stdout",
     "output_type": "stream",
     "text": [
      "create of python: rajan\n",
      "creater of java is: harsh\n"
     ]
    }
   ],
   "source": [
    "#polymorphism\n",
    "#(method overloading)\n",
    "class pyprog:\n",
    "    def __init__(self,name):\n",
    "        self.name=name\n",
    "    def show(self):\n",
    "        print(\"create of python:\",self.name)\n",
    "class javapro:\n",
    "    def __init__(self,name):\n",
    "        self.name=name\n",
    "    def show(self):\n",
    "        print(\"creater of java is:\",self.name)\n",
    "        \n",
    "p1=pyprog(\"rajan\")\n",
    "p1.show()\n",
    "p2=javapro(\"harsh\")\n",
    "p2.show()"
   ]
  },
  {
   "cell_type": "code",
   "execution_count": 17,
   "id": "7d2b74d7",
   "metadata": {},
   "outputs": [
    {
     "name": "stdout",
     "output_type": "stream",
     "text": [
      "create of python: rajan\n"
     ]
    }
   ],
   "source": [
    "#inheritace:(single level inheritance)\n",
    "class person:\n",
    "    def __init__(self,name):\n",
    "        self.name=name\n",
    "    def show(self):\n",
    "        print(\"create of python:\",self.name)\n",
    "class professor(person):\n",
    "    pass\n",
    "p1=professor(\"rajan\")\n",
    "p1.show()"
   ]
  },
  {
   "cell_type": "code",
   "execution_count": 18,
   "id": "b4ad6224",
   "metadata": {},
   "outputs": [
    {
     "name": "stdout",
     "output_type": "stream",
     "text": [
      "create of python: rajan\n"
     ]
    }
   ],
   "source": [
    "#inheritace:(hyrarki inheritance)\n",
    "class person:\n",
    "    def __init__(self,name):\n",
    "        self.name=name\n",
    "    def show(self):\n",
    "        print(\"create of python:\",self.name)\n",
    "class professor(person):\n",
    "    pass\n",
    "class teacher(professor):\n",
    "    pass\n",
    "p1=teacher(\"rajan\")\n",
    "p1.show()"
   ]
  },
  {
   "cell_type": "code",
   "execution_count": 19,
   "id": "26b9b723",
   "metadata": {},
   "outputs": [
    {
     "name": "stdout",
     "output_type": "stream",
     "text": [
      "create of python: rajan\n",
      "he teacher python\n"
     ]
    }
   ],
   "source": [
    "#inheritace:(multiple  inheritance)\n",
    "class person:\n",
    "    def __init__(self,name):\n",
    "        self.name=name\n",
    "    def show(self):\n",
    "        print(\"create of python:\",self.name)\n",
    "class professor:\n",
    "    def credit(Self):\n",
    "        print(\"he teacher python\")\n",
    "class teacher(person,professor):\n",
    "    pass\n",
    "    \n",
    "p1=teacher(\"rajan\")\n",
    "p1.show()\n",
    "p1.credit()"
   ]
  },
  {
   "cell_type": "code",
   "execution_count": 2,
   "id": "030cffa4",
   "metadata": {},
   "outputs": [
    {
     "name": "stdout",
     "output_type": "stream",
     "text": [
      "from child\n",
      "from parent\n",
      "back to child\n"
     ]
    }
   ],
   "source": [
    "#super()\n",
    "class Myclass:\n",
    "    def fun(self):\n",
    "        print(\"from parent\")\n",
    "class child(Myclass):\n",
    "    def fun(self):\n",
    "        print(\"from child\")\n",
    "        super().fun()\n",
    "        print(\"back to child\")\n",
    "a1=child()\n",
    "a1.fun()"
   ]
  },
  {
   "cell_type": "code",
   "execution_count": 4,
   "id": "312208c9",
   "metadata": {},
   "outputs": [
    {
     "name": "stdout",
     "output_type": "stream",
     "text": [
      "area is land\n",
      "Gun is AK-47\n",
      "area is sea\n",
      "Gun is AK-47\n"
     ]
    }
   ],
   "source": [
    "\"\"\"[abstarct class]: This class is derived from abc import ABC(abstarct base class\n",
    ") ,ABC is a meta class which defines behaviour of other class abstract method\n",
    " of an  abstract class must be defined in child class.\n",
    " It is use when common fetures are shared by all objects as they are.\n",
    " \n",
    " ex: From abc import ABC,abstractmethod\"\"\"\n",
    "\n",
    "from abc import ABC,abstractmethod\n",
    "class Defence(ABC):\n",
    "    @abstractmethod\n",
    "    def area(self):\n",
    "        pass\n",
    "    def gun(self):\n",
    "        print(\"Gun is AK-47\")\n",
    "class Army(Defence):\n",
    "    def area(self):\n",
    "        print(\"area is land\")\n",
    "class Navy(Defence):\n",
    "    def area(self):\n",
    "        print(\"area is sea\")\n",
    "a=Army()\n",
    "b=Navy()\n",
    "a.area()\n",
    "a.gun()\n",
    "b.area()\n",
    "b.gun()"
   ]
  },
  {
   "cell_type": "code",
   "execution_count": 6,
   "id": "29dea14b",
   "metadata": {},
   "outputs": [
    {
     "name": "stdout",
     "output_type": "stream",
     "text": [
      "I am from D\n"
     ]
    },
    {
     "data": {
      "text/plain": [
       "[__main__.D, __main__.C, __main__.B, __main__.A, object]"
      ]
     },
     "execution_count": 6,
     "metadata": {},
     "output_type": "execute_result"
    }
   ],
   "source": [
    "#METHOD RESOLUTION ORDER:\n",
    "class A:\n",
    "    def which(self):\n",
    "        print(\"I am from A\")\n",
    "class B(A):\n",
    "    def which(self):\n",
    "        print(\"I am from B\")\n",
    "class C(A):\n",
    "     def which(self):\n",
    "        print(\"I am from C\")\n",
    "class D(C,B):\n",
    "     def which(self):\n",
    "        print(\"I am from D\")\n",
    "d=D()\n",
    "d.which()\n",
    "D.mro()  # type D and press . and tab and selct mro"
   ]
  },
  {
   "cell_type": "code",
   "execution_count": 17,
   "id": "a28224dd",
   "metadata": {},
   "outputs": [],
   "source": [
    "#DUNDER /SPECIAL/MAGIC METHOD\n",
    "class Book:\n",
    "    def __init__(self,title,author,pages):\n",
    "        print(\"A book created\")\n",
    "        self.title=title\n",
    "        self.author=author\n",
    "        self.pages=pages\n",
    "    def __str__(self):\n",
    "        return f\"A{self.title} book by {self.author}\"\n",
    "    def __len__(self):\n",
    "        return self.pages\n",
    "    def __del__(self):\n",
    "        print(\"book destroyed\")"
   ]
  },
  {
   "cell_type": "code",
   "execution_count": null,
   "id": "bb694550",
   "metadata": {},
   "outputs": [],
   "source": [
    "#DUNDER /SPECIAL/MAGIC METHOD\n",
    "class Book:\n",
    "    def __init__(self,title,author,pages):\n",
    "        print(\"A book created\")\n",
    "        self.title=title\n",
    "        self.author=author\n",
    "        self.pages=pages\n",
    "    def __str__(self):\n",
    "        return f\"{self.title} book by {self.author}\"\n",
    "    def __len__(self):\n",
    "        return self.pages\n",
    "    def __del__(self):\n",
    "        print(\"book destroyed\")\n",
    "b=Book(\"raja ki rani\",\"rajan\",1000)        "
   ]
  },
  {
   "cell_type": "code",
   "execution_count": 13,
   "id": "41b1e846",
   "metadata": {},
   "outputs": [
    {
     "name": "stdout",
     "output_type": "stream",
     "text": [
      "raja ki rani book by rajan\n"
     ]
    }
   ],
   "source": [
    "print(b)"
   ]
  },
  {
   "cell_type": "code",
   "execution_count": null,
   "id": "dde8d0d3",
   "metadata": {},
   "outputs": [],
   "source": []
  }
 ],
 "metadata": {
  "kernelspec": {
   "display_name": "Python 3 (ipykernel)",
   "language": "python",
   "name": "python3"
  },
  "language_info": {
   "codemirror_mode": {
    "name": "ipython",
    "version": 3
   },
   "file_extension": ".py",
   "mimetype": "text/x-python",
   "name": "python",
   "nbconvert_exporter": "python",
   "pygments_lexer": "ipython3",
   "version": "3.11.5"
  }
 },
 "nbformat": 4,
 "nbformat_minor": 5
}
