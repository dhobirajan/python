{
 "cells": [
  {
   "cell_type": "code",
   "execution_count": 3,
   "id": "1d882e6e",
   "metadata": {},
   "outputs": [
    {
     "name": "stdout",
     "output_type": "stream",
     "text": [
      "Overwriting calc.py\n"
     ]
    }
   ],
   "source": [
    "%%writefile calc.py\n",
    "def ccal(a,b):\n",
    "    print(a+b)\n",
    "    print(a-b)"
   ]
  },
  {
   "cell_type": "code",
   "execution_count": 5,
   "id": "46de1cbc",
   "metadata": {},
   "outputs": [],
   "source": [
    "import calc"
   ]
  },
  {
   "cell_type": "code",
   "execution_count": 6,
   "id": "23c8c959",
   "metadata": {},
   "outputs": [
    {
     "name": "stdout",
     "output_type": "stream",
     "text": [
      "12\n",
      "4\n"
     ]
    }
   ],
   "source": [
    "calc.ccal(8,4)"
   ]
  },
  {
   "cell_type": "code",
   "execution_count": 9,
   "id": "726a1ab4",
   "metadata": {},
   "outputs": [
    {
     "name": "stdout",
     "output_type": "stream",
     "text": [
      "D:\\\n"
     ]
    }
   ],
   "source": [
    "import os\n",
    "print(os.getcwd())"
   ]
  },
  {
   "cell_type": "code",
   "execution_count": 8,
   "id": "0d9938ab",
   "metadata": {},
   "outputs": [],
   "source": [
    "os.chdir(\"D:\")"
   ]
  },
  {
   "cell_type": "code",
   "execution_count": 11,
   "id": "c0519966",
   "metadata": {},
   "outputs": [],
   "source": [
    "os.mkdir(\"python new\")"
   ]
  },
  {
   "cell_type": "code",
   "execution_count": 12,
   "id": "d64d4372",
   "metadata": {},
   "outputs": [
    {
     "data": {
      "text/plain": [
       "['$RECYCLE.BIN',\n",
       " '.idea',\n",
       " 'A.txt',\n",
       " 'B.txt',\n",
       " 'C.txt',\n",
       " 'coursera',\n",
       " 'DBMS',\n",
       " 'DS_sem-2',\n",
       " 'Electric_bill.cvs.sql',\n",
       " 'FSD-1',\n",
       " 'intrface.java',\n",
       " 'java_ii material',\n",
       " 'm1.txt',\n",
       " 'metro.txt',\n",
       " 'New folder',\n",
       " 'package',\n",
       " 'Photo',\n",
       " 'python',\n",
       " 'python-1',\n",
       " 'raj.txt',\n",
       " 'Rajan.javap',\n",
       " 'rajan.txt',\n",
       " 'semister_2_java',\n",
       " 'Softwere',\n",
       " 'Songs',\n",
       " 'System Volume Information',\n",
       " 'x.jpeg',\n",
       " 'xampp',\n",
       " 'z.png']"
      ]
     },
     "execution_count": 12,
     "metadata": {},
     "output_type": "execute_result"
    }
   ],
   "source": [
    "os.listdir()"
   ]
  },
  {
   "cell_type": "code",
   "execution_count": 14,
   "id": "c5bc7fe0",
   "metadata": {},
   "outputs": [
    {
     "data": {
      "text/plain": [
       "['new']"
      ]
     },
     "execution_count": 14,
     "metadata": {},
     "output_type": "execute_result"
    }
   ],
   "source": [
    "os.listdir(\"D:python/\")"
   ]
  },
  {
   "cell_type": "code",
   "execution_count": 15,
   "id": "9ec2f482",
   "metadata": {},
   "outputs": [],
   "source": [
    "os.remove(\"D:python/new/raj.txt.txt\")"
   ]
  },
  {
   "cell_type": "code",
   "execution_count": 16,
   "id": "d6bebba1",
   "metadata": {},
   "outputs": [],
   "source": [
    "os.rmdir(\"D:python/new/\")"
   ]
  },
  {
   "cell_type": "code",
   "execution_count": 17,
   "id": "6ab087d8",
   "metadata": {},
   "outputs": [
    {
     "data": {
      "text/plain": [
       "2.718281828459045"
      ]
     },
     "execution_count": 17,
     "metadata": {},
     "output_type": "execute_result"
    }
   ],
   "source": [
    "import math\n",
    "# for cheking the mathod of math class type[math.] and press tab\n",
    "math.e"
   ]
  },
  {
   "cell_type": "code",
   "execution_count": 18,
   "id": "1d7123b1",
   "metadata": {},
   "outputs": [],
   "source": [
    "from math import pi,e"
   ]
  },
  {
   "cell_type": "code",
   "execution_count": 20,
   "id": "3cca605e",
   "metadata": {},
   "outputs": [
    {
     "data": {
      "text/plain": [
       "3.141592653589793"
      ]
     },
     "execution_count": 20,
     "metadata": {},
     "output_type": "execute_result"
    }
   ],
   "source": [
    "pi"
   ]
  },
  {
   "cell_type": "code",
   "execution_count": 21,
   "id": "03cb66c2",
   "metadata": {},
   "outputs": [
    {
     "data": {
      "text/plain": [
       "2.718281828459045"
      ]
     },
     "execution_count": 21,
     "metadata": {},
     "output_type": "execute_result"
    }
   ],
   "source": [
    "e"
   ]
  },
  {
   "cell_type": "code",
   "execution_count": 22,
   "id": "47dc79bd",
   "metadata": {},
   "outputs": [],
   "source": [
    "from math import pi as rajan\n",
    "#for change the name of pi"
   ]
  },
  {
   "cell_type": "code",
   "execution_count": 23,
   "id": "849d7d1e",
   "metadata": {},
   "outputs": [
    {
     "data": {
      "text/plain": [
       "3.141592653589793"
      ]
     },
     "execution_count": 23,
     "metadata": {},
     "output_type": "execute_result"
    }
   ],
   "source": [
    "rajan"
   ]
  },
  {
   "cell_type": "code",
   "execution_count": null,
   "id": "170359de",
   "metadata": {},
   "outputs": [],
   "source": []
  },
  {
   "cell_type": "code",
   "execution_count": null,
   "id": "66f828b9",
   "metadata": {},
   "outputs": [],
   "source": []
  }
 ],
 "metadata": {
  "kernelspec": {
   "display_name": "Python 3 (ipykernel)",
   "language": "python",
   "name": "python3"
  },
  "language_info": {
   "codemirror_mode": {
    "name": "ipython",
    "version": 3
   },
   "file_extension": ".py",
   "mimetype": "text/x-python",
   "name": "python",
   "nbconvert_exporter": "python",
   "pygments_lexer": "ipython3",
   "version": "3.11.5"
  }
 },
 "nbformat": 4,
 "nbformat_minor": 5
}
